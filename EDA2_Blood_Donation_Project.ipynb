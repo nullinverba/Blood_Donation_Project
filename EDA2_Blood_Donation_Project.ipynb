{
 "cells": [
  {
   "cell_type": "markdown",
   "id": "d2fa0c2e",
   "metadata": {},
   "source": [
    "# Blood Donation Project\n",
    "\n",
    "<p>Blood transfusion saves lives, from replacing blood lost during major surgery or a serious injury to treating a variety of diseases and blood disorders. Ensuring that sufficient blood is available when needed is a serious challenge for healthcare professionals. ''. According to <a href=\"https://www.webmd.com/a-to-z-guides/blood-transfusion-what-to-know#1\">WebMD</a> \"every year approximately \"5 million Americans need blood transfusions.\"</p>\n",
    "\n",
    "<p>Our data set was taken from a mobile blood donation vehicle in Taiwan.</p>\n",
    "\n",
    "<p>The data is stored in datasets/transfusion.data and is structured according to the RFMTC marketing model (a variant of RFM)."
   ]
  },
  {
   "cell_type": "markdown",
   "id": "8915abb0",
   "metadata": {},
   "source": [
    "In this data set:\n",
    "\n",
    "**RFMTC Components**\n",
    "\n",
    "1. **Recency (R) - \"Recency (months)\"**\n",
    "     - This feature represents how long it has been since a donor's last donation. Generally, donors whose last donation was more recent are more likely to donate again.\n",
    "  \n",
    "2. **Frequency (F) — \"Frequency (times)\"**\n",
    "     - This indicates how often a donor donates blood. People who donate with high frequency are generally more likely to donate in the future.\n",
    "  \n",
    "3. **Monetary (M) - Monetary Value — \"Monetary (c.c. blood)\"**\n",
    "     - This feature represents how much blood the donor donated in total. Generally, donors who donate larger amounts of blood are considered to be of higher value.\n",
    "\n",
    "4. **Time (T) - \"Time (months)\"**\n",
    "     - This shows how long it has been since a donor's first donation. This feature can be used to understand how “loyal” the donor is throughout the donation period.\n",
    "\n",
    "5. **Churn (C) - Leaving — \"whether he/she donated blood in March 2007\"**\n",
    "     - This shows whether a donor made a donation during a specific time period (in March 2007). Churn, in this example, represents the probability that the donor will not donate during that period.\n",
    "\n",
    "**Usage Areas of RFMTC**\n",
    "\n",
    "1. **Segmentation**: Donors can be segmented into different segments using these features. For example, donors with high \"F\" and low \"R\" values can be labeled as \"Loyal Donors.\"\n",
    "\n",
    "2. **Predicting**: The probability of future donation can be predicted using current RFMTC values.\n",
    "\n",
    "3. **Targeting**: Special campaigns or incentives can be used to target specific donor segments.\n",
    "\n",
    "4. **Risk Analysis**: Donors with low frequency and high churn rate can be labeled as \"Risky\", and special strategies can be developed for these donors."
   ]
  },
  {
   "cell_type": "markdown",
   "id": "04f11be3",
   "metadata": {},
   "source": [
    "# Importing Libraries"
   ]
  },
  {
   "cell_type": "code",
   "execution_count": 1,
   "id": "24a4d367",
   "metadata": {
    "ExecuteTime": {
     "end_time": "2023-09-18T18:03:47.300348Z",
     "start_time": "2023-09-18T18:03:45.966066Z"
    }
   },
   "outputs": [],
   "source": [
    "import numpy as np\n",
    "import pandas as pd"
   ]
  },
  {
   "cell_type": "markdown",
   "id": "aceacad1",
   "metadata": {},
   "source": [
    "# Exploratory Data Analysis and Visualization"
   ]
  },
  {
   "cell_type": "code",
   "execution_count": 2,
   "id": "7e6dde0a",
   "metadata": {
    "ExecuteTime": {
     "end_time": "2023-09-18T18:03:56.397258Z",
     "start_time": "2023-09-18T18:03:56.326588Z"
    }
   },
   "outputs": [
    {
     "data": {
      "text/html": [
       "<div>\n",
       "<style scoped>\n",
       "    .dataframe tbody tr th:only-of-type {\n",
       "        vertical-align: middle;\n",
       "    }\n",
       "\n",
       "    .dataframe tbody tr th {\n",
       "        vertical-align: top;\n",
       "    }\n",
       "\n",
       "    .dataframe thead th {\n",
       "        text-align: right;\n",
       "    }\n",
       "</style>\n",
       "<table border=\"1\" class=\"dataframe\">\n",
       "  <thead>\n",
       "    <tr style=\"text-align: right;\">\n",
       "      <th></th>\n",
       "      <th>Recency (months)</th>\n",
       "      <th>Frequency (times)</th>\n",
       "      <th>Monetary (c.c. blood)</th>\n",
       "      <th>Time (months)</th>\n",
       "      <th>whether he/she donated blood in March 2007</th>\n",
       "    </tr>\n",
       "  </thead>\n",
       "  <tbody>\n",
       "    <tr>\n",
       "      <th>0</th>\n",
       "      <td>2</td>\n",
       "      <td>50</td>\n",
       "      <td>12500</td>\n",
       "      <td>98</td>\n",
       "      <td>1</td>\n",
       "    </tr>\n",
       "    <tr>\n",
       "      <th>1</th>\n",
       "      <td>0</td>\n",
       "      <td>13</td>\n",
       "      <td>3250</td>\n",
       "      <td>28</td>\n",
       "      <td>1</td>\n",
       "    </tr>\n",
       "    <tr>\n",
       "      <th>2</th>\n",
       "      <td>1</td>\n",
       "      <td>16</td>\n",
       "      <td>4000</td>\n",
       "      <td>35</td>\n",
       "      <td>1</td>\n",
       "    </tr>\n",
       "    <tr>\n",
       "      <th>3</th>\n",
       "      <td>2</td>\n",
       "      <td>20</td>\n",
       "      <td>5000</td>\n",
       "      <td>45</td>\n",
       "      <td>1</td>\n",
       "    </tr>\n",
       "    <tr>\n",
       "      <th>4</th>\n",
       "      <td>1</td>\n",
       "      <td>24</td>\n",
       "      <td>6000</td>\n",
       "      <td>77</td>\n",
       "      <td>0</td>\n",
       "    </tr>\n",
       "    <tr>\n",
       "      <th>...</th>\n",
       "      <td>...</td>\n",
       "      <td>...</td>\n",
       "      <td>...</td>\n",
       "      <td>...</td>\n",
       "      <td>...</td>\n",
       "    </tr>\n",
       "    <tr>\n",
       "      <th>743</th>\n",
       "      <td>23</td>\n",
       "      <td>2</td>\n",
       "      <td>500</td>\n",
       "      <td>38</td>\n",
       "      <td>0</td>\n",
       "    </tr>\n",
       "    <tr>\n",
       "      <th>744</th>\n",
       "      <td>21</td>\n",
       "      <td>2</td>\n",
       "      <td>500</td>\n",
       "      <td>52</td>\n",
       "      <td>0</td>\n",
       "    </tr>\n",
       "    <tr>\n",
       "      <th>745</th>\n",
       "      <td>23</td>\n",
       "      <td>3</td>\n",
       "      <td>750</td>\n",
       "      <td>62</td>\n",
       "      <td>0</td>\n",
       "    </tr>\n",
       "    <tr>\n",
       "      <th>746</th>\n",
       "      <td>39</td>\n",
       "      <td>1</td>\n",
       "      <td>250</td>\n",
       "      <td>39</td>\n",
       "      <td>0</td>\n",
       "    </tr>\n",
       "    <tr>\n",
       "      <th>747</th>\n",
       "      <td>72</td>\n",
       "      <td>1</td>\n",
       "      <td>250</td>\n",
       "      <td>72</td>\n",
       "      <td>0</td>\n",
       "    </tr>\n",
       "  </tbody>\n",
       "</table>\n",
       "<p>748 rows × 5 columns</p>\n",
       "</div>"
      ],
      "text/plain": [
       "     Recency (months)  Frequency (times)  Monetary (c.c. blood)  \\\n",
       "0                   2                 50                  12500   \n",
       "1                   0                 13                   3250   \n",
       "2                   1                 16                   4000   \n",
       "3                   2                 20                   5000   \n",
       "4                   1                 24                   6000   \n",
       "..                ...                ...                    ...   \n",
       "743                23                  2                    500   \n",
       "744                21                  2                    500   \n",
       "745                23                  3                    750   \n",
       "746                39                  1                    250   \n",
       "747                72                  1                    250   \n",
       "\n",
       "     Time (months)  whether he/she donated blood in March 2007  \n",
       "0               98                                           1  \n",
       "1               28                                           1  \n",
       "2               35                                           1  \n",
       "3               45                                           1  \n",
       "4               77                                           0  \n",
       "..             ...                                         ...  \n",
       "743             38                                           0  \n",
       "744             52                                           0  \n",
       "745             62                                           0  \n",
       "746             39                                           0  \n",
       "747             72                                           0  \n",
       "\n",
       "[748 rows x 5 columns]"
      ]
     },
     "execution_count": 2,
     "metadata": {},
     "output_type": "execute_result"
    }
   ],
   "source": [
    "df = pd.read_csv(\"transfusion.data\")\n",
    "df"
   ]
  },
  {
   "cell_type": "markdown",
   "id": "38956660",
   "metadata": {},
   "source": [
    "## Change the column names (if necessary)"
   ]
  },
  {
   "cell_type": "code",
   "execution_count": 3,
   "id": "6f8cfae8",
   "metadata": {
    "ExecuteTime": {
     "end_time": "2023-09-18T18:04:53.424909Z",
     "start_time": "2023-09-18T18:04:53.415788Z"
    }
   },
   "outputs": [],
   "source": [
    "new_column_names = {\n",
    "    'Recency (months)': 'Recency',\n",
    "    'Frequency (times)': 'Frequency',\n",
    "    'Monetary (c.c. blood)': 'Monetary',\n",
    "    'Time (months)': 'Time',\n",
    "    'whether he/she donated blood in March 2007': 'Target'\n",
    "                   }\n",
    "            \n",
    "df.rename(columns=new_column_names, inplace=True)"
   ]
  },
  {
   "cell_type": "markdown",
   "id": "07cbfedc",
   "metadata": {},
   "source": [
    "## Get the first 5 lines"
   ]
  },
  {
   "cell_type": "code",
   "execution_count": 4,
   "id": "d5989f80",
   "metadata": {
    "ExecuteTime": {
     "end_time": "2023-09-18T18:11:06.127072Z",
     "start_time": "2023-09-18T18:11:06.112080Z"
    }
   },
   "outputs": [
    {
     "data": {
      "text/html": [
       "<div>\n",
       "<style scoped>\n",
       "    .dataframe tbody tr th:only-of-type {\n",
       "        vertical-align: middle;\n",
       "    }\n",
       "\n",
       "    .dataframe tbody tr th {\n",
       "        vertical-align: top;\n",
       "    }\n",
       "\n",
       "    .dataframe thead th {\n",
       "        text-align: right;\n",
       "    }\n",
       "</style>\n",
       "<table border=\"1\" class=\"dataframe\">\n",
       "  <thead>\n",
       "    <tr style=\"text-align: right;\">\n",
       "      <th></th>\n",
       "      <th>Recency</th>\n",
       "      <th>Frequency</th>\n",
       "      <th>Monetary</th>\n",
       "      <th>Time</th>\n",
       "      <th>Target</th>\n",
       "    </tr>\n",
       "  </thead>\n",
       "  <tbody>\n",
       "    <tr>\n",
       "      <th>0</th>\n",
       "      <td>2</td>\n",
       "      <td>50</td>\n",
       "      <td>12500</td>\n",
       "      <td>98</td>\n",
       "      <td>1</td>\n",
       "    </tr>\n",
       "    <tr>\n",
       "      <th>1</th>\n",
       "      <td>0</td>\n",
       "      <td>13</td>\n",
       "      <td>3250</td>\n",
       "      <td>28</td>\n",
       "      <td>1</td>\n",
       "    </tr>\n",
       "    <tr>\n",
       "      <th>2</th>\n",
       "      <td>1</td>\n",
       "      <td>16</td>\n",
       "      <td>4000</td>\n",
       "      <td>35</td>\n",
       "      <td>1</td>\n",
       "    </tr>\n",
       "    <tr>\n",
       "      <th>3</th>\n",
       "      <td>2</td>\n",
       "      <td>20</td>\n",
       "      <td>5000</td>\n",
       "      <td>45</td>\n",
       "      <td>1</td>\n",
       "    </tr>\n",
       "    <tr>\n",
       "      <th>4</th>\n",
       "      <td>1</td>\n",
       "      <td>24</td>\n",
       "      <td>6000</td>\n",
       "      <td>77</td>\n",
       "      <td>0</td>\n",
       "    </tr>\n",
       "  </tbody>\n",
       "</table>\n",
       "</div>"
      ],
      "text/plain": [
       "   Recency  Frequency  Monetary  Time  Target\n",
       "0        2         50     12500    98       1\n",
       "1        0         13      3250    28       1\n",
       "2        1         16      4000    35       1\n",
       "3        2         20      5000    45       1\n",
       "4        1         24      6000    77       0"
      ]
     },
     "execution_count": 4,
     "metadata": {},
     "output_type": "execute_result"
    }
   ],
   "source": [
    "df.head(5)"
   ]
  },
  {
   "cell_type": "markdown",
   "id": "d7f71aa1",
   "metadata": {},
   "source": [
    "## Look at the general information"
   ]
  },
  {
   "cell_type": "code",
   "execution_count": 5,
   "id": "46e95c38",
   "metadata": {
    "ExecuteTime": {
     "end_time": "2023-09-18T18:12:01.304040Z",
     "start_time": "2023-09-18T18:12:01.275311Z"
    }
   },
   "outputs": [
    {
     "name": "stdout",
     "output_type": "stream",
     "text": [
      "<class 'pandas.core.frame.DataFrame'>\n",
      "RangeIndex: 748 entries, 0 to 747\n",
      "Data columns (total 5 columns):\n",
      " #   Column     Non-Null Count  Dtype\n",
      "---  ------     --------------  -----\n",
      " 0   Recency    748 non-null    int64\n",
      " 1   Frequency  748 non-null    int64\n",
      " 2   Monetary   748 non-null    int64\n",
      " 3   Time       748 non-null    int64\n",
      " 4   Target     748 non-null    int64\n",
      "dtypes: int64(5)\n",
      "memory usage: 29.3 KB\n"
     ]
    }
   ],
   "source": [
    "df.info()"
   ]
  },
  {
   "cell_type": "markdown",
   "id": "77ed0c1b",
   "metadata": {},
   "source": [
    "## Look at the shape"
   ]
  },
  {
   "cell_type": "code",
   "execution_count": 6,
   "id": "4140ddb2",
   "metadata": {
    "ExecuteTime": {
     "end_time": "2023-09-18T18:15:14.423165Z",
     "start_time": "2023-09-18T18:15:14.413039Z"
    }
   },
   "outputs": [
    {
     "data": {
      "text/plain": [
       "(748, 5)"
      ]
     },
     "execution_count": 6,
     "metadata": {},
     "output_type": "execute_result"
    }
   ],
   "source": [
    "df.shape"
   ]
  },
  {
   "cell_type": "markdown",
   "id": "d747fcce",
   "metadata": {},
   "source": [
    "## Check for missing values"
   ]
  },
  {
   "cell_type": "code",
   "execution_count": 7,
   "id": "24790c65",
   "metadata": {
    "ExecuteTime": {
     "end_time": "2023-09-18T18:17:10.199001Z",
     "start_time": "2023-09-18T18:17:10.169563Z"
    }
   },
   "outputs": [
    {
     "data": {
      "text/html": [
       "<div>\n",
       "<style scoped>\n",
       "    .dataframe tbody tr th:only-of-type {\n",
       "        vertical-align: middle;\n",
       "    }\n",
       "\n",
       "    .dataframe tbody tr th {\n",
       "        vertical-align: top;\n",
       "    }\n",
       "\n",
       "    .dataframe thead th {\n",
       "        text-align: right;\n",
       "    }\n",
       "</style>\n",
       "<table border=\"1\" class=\"dataframe\">\n",
       "  <thead>\n",
       "    <tr style=\"text-align: right;\">\n",
       "      <th></th>\n",
       "      <th>Recency</th>\n",
       "      <th>Frequency</th>\n",
       "      <th>Monetary</th>\n",
       "      <th>Time</th>\n",
       "      <th>Target</th>\n",
       "    </tr>\n",
       "  </thead>\n",
       "  <tbody>\n",
       "    <tr>\n",
       "      <th>0</th>\n",
       "      <td>False</td>\n",
       "      <td>False</td>\n",
       "      <td>False</td>\n",
       "      <td>False</td>\n",
       "      <td>False</td>\n",
       "    </tr>\n",
       "    <tr>\n",
       "      <th>1</th>\n",
       "      <td>False</td>\n",
       "      <td>False</td>\n",
       "      <td>False</td>\n",
       "      <td>False</td>\n",
       "      <td>False</td>\n",
       "    </tr>\n",
       "    <tr>\n",
       "      <th>2</th>\n",
       "      <td>False</td>\n",
       "      <td>False</td>\n",
       "      <td>False</td>\n",
       "      <td>False</td>\n",
       "      <td>False</td>\n",
       "    </tr>\n",
       "    <tr>\n",
       "      <th>3</th>\n",
       "      <td>False</td>\n",
       "      <td>False</td>\n",
       "      <td>False</td>\n",
       "      <td>False</td>\n",
       "      <td>False</td>\n",
       "    </tr>\n",
       "    <tr>\n",
       "      <th>4</th>\n",
       "      <td>False</td>\n",
       "      <td>False</td>\n",
       "      <td>False</td>\n",
       "      <td>False</td>\n",
       "      <td>False</td>\n",
       "    </tr>\n",
       "    <tr>\n",
       "      <th>...</th>\n",
       "      <td>...</td>\n",
       "      <td>...</td>\n",
       "      <td>...</td>\n",
       "      <td>...</td>\n",
       "      <td>...</td>\n",
       "    </tr>\n",
       "    <tr>\n",
       "      <th>743</th>\n",
       "      <td>False</td>\n",
       "      <td>False</td>\n",
       "      <td>False</td>\n",
       "      <td>False</td>\n",
       "      <td>False</td>\n",
       "    </tr>\n",
       "    <tr>\n",
       "      <th>744</th>\n",
       "      <td>False</td>\n",
       "      <td>False</td>\n",
       "      <td>False</td>\n",
       "      <td>False</td>\n",
       "      <td>False</td>\n",
       "    </tr>\n",
       "    <tr>\n",
       "      <th>745</th>\n",
       "      <td>False</td>\n",
       "      <td>False</td>\n",
       "      <td>False</td>\n",
       "      <td>False</td>\n",
       "      <td>False</td>\n",
       "    </tr>\n",
       "    <tr>\n",
       "      <th>746</th>\n",
       "      <td>False</td>\n",
       "      <td>False</td>\n",
       "      <td>False</td>\n",
       "      <td>False</td>\n",
       "      <td>False</td>\n",
       "    </tr>\n",
       "    <tr>\n",
       "      <th>747</th>\n",
       "      <td>False</td>\n",
       "      <td>False</td>\n",
       "      <td>False</td>\n",
       "      <td>False</td>\n",
       "      <td>False</td>\n",
       "    </tr>\n",
       "  </tbody>\n",
       "</table>\n",
       "<p>748 rows × 5 columns</p>\n",
       "</div>"
      ],
      "text/plain": [
       "     Recency  Frequency  Monetary   Time  Target\n",
       "0      False      False     False  False   False\n",
       "1      False      False     False  False   False\n",
       "2      False      False     False  False   False\n",
       "3      False      False     False  False   False\n",
       "4      False      False     False  False   False\n",
       "..       ...        ...       ...    ...     ...\n",
       "743    False      False     False  False   False\n",
       "744    False      False     False  False   False\n",
       "745    False      False     False  False   False\n",
       "746    False      False     False  False   False\n",
       "747    False      False     False  False   False\n",
       "\n",
       "[748 rows x 5 columns]"
      ]
     },
     "execution_count": 7,
     "metadata": {},
     "output_type": "execute_result"
    }
   ],
   "source": [
    "df.isnull()"
   ]
  },
  {
   "cell_type": "code",
   "execution_count": 8,
   "id": "07daa6f9",
   "metadata": {},
   "outputs": [
    {
     "data": {
      "text/plain": [
       "Recency      0\n",
       "Frequency    0\n",
       "Monetary     0\n",
       "Time         0\n",
       "Target       0\n",
       "dtype: int64"
      ]
     },
     "execution_count": 8,
     "metadata": {},
     "output_type": "execute_result"
    }
   ],
   "source": [
    "df.isnull().sum()"
   ]
  },
  {
   "cell_type": "markdown",
   "id": "a188236a",
   "metadata": {},
   "source": [
    "## Check for duplicated values"
   ]
  },
  {
   "cell_type": "code",
   "execution_count": 9,
   "id": "3ad5f73c",
   "metadata": {},
   "outputs": [
    {
     "data": {
      "text/html": [
       "<div>\n",
       "<style scoped>\n",
       "    .dataframe tbody tr th:only-of-type {\n",
       "        vertical-align: middle;\n",
       "    }\n",
       "\n",
       "    .dataframe tbody tr th {\n",
       "        vertical-align: top;\n",
       "    }\n",
       "\n",
       "    .dataframe thead th {\n",
       "        text-align: right;\n",
       "    }\n",
       "</style>\n",
       "<table border=\"1\" class=\"dataframe\">\n",
       "  <thead>\n",
       "    <tr style=\"text-align: right;\">\n",
       "      <th></th>\n",
       "      <th>Recency</th>\n",
       "      <th>Frequency</th>\n",
       "      <th>Monetary</th>\n",
       "      <th>Time</th>\n",
       "      <th>Target</th>\n",
       "    </tr>\n",
       "  </thead>\n",
       "  <tbody>\n",
       "    <tr>\n",
       "      <th>18</th>\n",
       "      <td>2</td>\n",
       "      <td>6</td>\n",
       "      <td>1500</td>\n",
       "      <td>15</td>\n",
       "      <td>1</td>\n",
       "    </tr>\n",
       "    <tr>\n",
       "      <th>20</th>\n",
       "      <td>2</td>\n",
       "      <td>3</td>\n",
       "      <td>750</td>\n",
       "      <td>4</td>\n",
       "      <td>1</td>\n",
       "    </tr>\n",
       "    <tr>\n",
       "      <th>23</th>\n",
       "      <td>2</td>\n",
       "      <td>6</td>\n",
       "      <td>1500</td>\n",
       "      <td>16</td>\n",
       "      <td>1</td>\n",
       "    </tr>\n",
       "    <tr>\n",
       "      <th>32</th>\n",
       "      <td>4</td>\n",
       "      <td>10</td>\n",
       "      <td>2500</td>\n",
       "      <td>28</td>\n",
       "      <td>1</td>\n",
       "    </tr>\n",
       "    <tr>\n",
       "      <th>43</th>\n",
       "      <td>2</td>\n",
       "      <td>5</td>\n",
       "      <td>1250</td>\n",
       "      <td>16</td>\n",
       "      <td>0</td>\n",
       "    </tr>\n",
       "    <tr>\n",
       "      <th>...</th>\n",
       "      <td>...</td>\n",
       "      <td>...</td>\n",
       "      <td>...</td>\n",
       "      <td>...</td>\n",
       "      <td>...</td>\n",
       "    </tr>\n",
       "    <tr>\n",
       "      <th>735</th>\n",
       "      <td>23</td>\n",
       "      <td>1</td>\n",
       "      <td>250</td>\n",
       "      <td>23</td>\n",
       "      <td>0</td>\n",
       "    </tr>\n",
       "    <tr>\n",
       "      <th>736</th>\n",
       "      <td>23</td>\n",
       "      <td>1</td>\n",
       "      <td>250</td>\n",
       "      <td>23</td>\n",
       "      <td>0</td>\n",
       "    </tr>\n",
       "    <tr>\n",
       "      <th>737</th>\n",
       "      <td>23</td>\n",
       "      <td>1</td>\n",
       "      <td>250</td>\n",
       "      <td>23</td>\n",
       "      <td>0</td>\n",
       "    </tr>\n",
       "    <tr>\n",
       "      <th>738</th>\n",
       "      <td>23</td>\n",
       "      <td>1</td>\n",
       "      <td>250</td>\n",
       "      <td>23</td>\n",
       "      <td>0</td>\n",
       "    </tr>\n",
       "    <tr>\n",
       "      <th>740</th>\n",
       "      <td>23</td>\n",
       "      <td>1</td>\n",
       "      <td>250</td>\n",
       "      <td>23</td>\n",
       "      <td>0</td>\n",
       "    </tr>\n",
       "  </tbody>\n",
       "</table>\n",
       "<p>215 rows × 5 columns</p>\n",
       "</div>"
      ],
      "text/plain": [
       "     Recency  Frequency  Monetary  Time  Target\n",
       "18         2          6      1500    15       1\n",
       "20         2          3       750     4       1\n",
       "23         2          6      1500    16       1\n",
       "32         4         10      2500    28       1\n",
       "43         2          5      1250    16       0\n",
       "..       ...        ...       ...   ...     ...\n",
       "735       23          1       250    23       0\n",
       "736       23          1       250    23       0\n",
       "737       23          1       250    23       0\n",
       "738       23          1       250    23       0\n",
       "740       23          1       250    23       0\n",
       "\n",
       "[215 rows x 5 columns]"
      ]
     },
     "execution_count": 9,
     "metadata": {},
     "output_type": "execute_result"
    }
   ],
   "source": [
    "df[df.duplicated()]"
   ]
  },
  {
   "cell_type": "code",
   "execution_count": 10,
   "id": "4156be28",
   "metadata": {
    "ExecuteTime": {
     "end_time": "2023-09-18T18:20:20.776110Z",
     "start_time": "2023-09-18T18:20:20.762590Z"
    }
   },
   "outputs": [
    {
     "data": {
      "text/plain": [
       "215"
      ]
     },
     "execution_count": 10,
     "metadata": {},
     "output_type": "execute_result"
    }
   ],
   "source": [
    "df.duplicated().sum()"
   ]
  },
  {
   "cell_type": "markdown",
   "id": "395fa96f",
   "metadata": {},
   "source": [
    "## Check the dtype"
   ]
  },
  {
   "cell_type": "code",
   "execution_count": 11,
   "id": "7fd33edb",
   "metadata": {
    "ExecuteTime": {
     "end_time": "2023-09-18T18:34:38.721483Z",
     "start_time": "2023-09-18T18:34:38.708460Z"
    }
   },
   "outputs": [
    {
     "data": {
      "text/plain": [
       "Recency      int64\n",
       "Frequency    int64\n",
       "Monetary     int64\n",
       "Time         int64\n",
       "Target       int64\n",
       "dtype: object"
      ]
     },
     "execution_count": 11,
     "metadata": {},
     "output_type": "execute_result"
    }
   ],
   "source": [
    "df.dtypes"
   ]
  },
  {
   "cell_type": "markdown",
   "id": "3fb1afe8",
   "metadata": {},
   "source": [
    "## Calculate the basic statistical values"
   ]
  },
  {
   "cell_type": "code",
   "execution_count": 12,
   "id": "6e1d8a87",
   "metadata": {
    "ExecuteTime": {
     "end_time": "2023-09-18T18:35:36.869143Z",
     "start_time": "2023-09-18T18:35:36.771630Z"
    }
   },
   "outputs": [
    {
     "data": {
      "text/html": [
       "<div>\n",
       "<style scoped>\n",
       "    .dataframe tbody tr th:only-of-type {\n",
       "        vertical-align: middle;\n",
       "    }\n",
       "\n",
       "    .dataframe tbody tr th {\n",
       "        vertical-align: top;\n",
       "    }\n",
       "\n",
       "    .dataframe thead th {\n",
       "        text-align: right;\n",
       "    }\n",
       "</style>\n",
       "<table border=\"1\" class=\"dataframe\">\n",
       "  <thead>\n",
       "    <tr style=\"text-align: right;\">\n",
       "      <th></th>\n",
       "      <th>Recency</th>\n",
       "      <th>Frequency</th>\n",
       "      <th>Monetary</th>\n",
       "      <th>Time</th>\n",
       "      <th>Target</th>\n",
       "    </tr>\n",
       "  </thead>\n",
       "  <tbody>\n",
       "    <tr>\n",
       "      <th>count</th>\n",
       "      <td>748.000000</td>\n",
       "      <td>748.000000</td>\n",
       "      <td>748.000000</td>\n",
       "      <td>748.000000</td>\n",
       "      <td>748.000000</td>\n",
       "    </tr>\n",
       "    <tr>\n",
       "      <th>mean</th>\n",
       "      <td>9.506684</td>\n",
       "      <td>5.514706</td>\n",
       "      <td>1378.676471</td>\n",
       "      <td>34.282086</td>\n",
       "      <td>0.237968</td>\n",
       "    </tr>\n",
       "    <tr>\n",
       "      <th>std</th>\n",
       "      <td>8.095396</td>\n",
       "      <td>5.839307</td>\n",
       "      <td>1459.826781</td>\n",
       "      <td>24.376714</td>\n",
       "      <td>0.426124</td>\n",
       "    </tr>\n",
       "    <tr>\n",
       "      <th>min</th>\n",
       "      <td>0.000000</td>\n",
       "      <td>1.000000</td>\n",
       "      <td>250.000000</td>\n",
       "      <td>2.000000</td>\n",
       "      <td>0.000000</td>\n",
       "    </tr>\n",
       "    <tr>\n",
       "      <th>25%</th>\n",
       "      <td>2.750000</td>\n",
       "      <td>2.000000</td>\n",
       "      <td>500.000000</td>\n",
       "      <td>16.000000</td>\n",
       "      <td>0.000000</td>\n",
       "    </tr>\n",
       "    <tr>\n",
       "      <th>50%</th>\n",
       "      <td>7.000000</td>\n",
       "      <td>4.000000</td>\n",
       "      <td>1000.000000</td>\n",
       "      <td>28.000000</td>\n",
       "      <td>0.000000</td>\n",
       "    </tr>\n",
       "    <tr>\n",
       "      <th>75%</th>\n",
       "      <td>14.000000</td>\n",
       "      <td>7.000000</td>\n",
       "      <td>1750.000000</td>\n",
       "      <td>50.000000</td>\n",
       "      <td>0.000000</td>\n",
       "    </tr>\n",
       "    <tr>\n",
       "      <th>max</th>\n",
       "      <td>74.000000</td>\n",
       "      <td>50.000000</td>\n",
       "      <td>12500.000000</td>\n",
       "      <td>98.000000</td>\n",
       "      <td>1.000000</td>\n",
       "    </tr>\n",
       "  </tbody>\n",
       "</table>\n",
       "</div>"
      ],
      "text/plain": [
       "          Recency   Frequency      Monetary        Time      Target\n",
       "count  748.000000  748.000000    748.000000  748.000000  748.000000\n",
       "mean     9.506684    5.514706   1378.676471   34.282086    0.237968\n",
       "std      8.095396    5.839307   1459.826781   24.376714    0.426124\n",
       "min      0.000000    1.000000    250.000000    2.000000    0.000000\n",
       "25%      2.750000    2.000000    500.000000   16.000000    0.000000\n",
       "50%      7.000000    4.000000   1000.000000   28.000000    0.000000\n",
       "75%     14.000000    7.000000   1750.000000   50.000000    0.000000\n",
       "max     74.000000   50.000000  12500.000000   98.000000    1.000000"
      ]
     },
     "execution_count": 12,
     "metadata": {},
     "output_type": "execute_result"
    }
   ],
   "source": [
    "df.describe()"
   ]
  },
  {
   "cell_type": "code",
   "execution_count": 13,
   "id": "6b928626",
   "metadata": {},
   "outputs": [
    {
     "data": {
      "text/html": [
       "<div>\n",
       "<style scoped>\n",
       "    .dataframe tbody tr th:only-of-type {\n",
       "        vertical-align: middle;\n",
       "    }\n",
       "\n",
       "    .dataframe tbody tr th {\n",
       "        vertical-align: top;\n",
       "    }\n",
       "\n",
       "    .dataframe thead th {\n",
       "        text-align: right;\n",
       "    }\n",
       "</style>\n",
       "<table border=\"1\" class=\"dataframe\">\n",
       "  <thead>\n",
       "    <tr style=\"text-align: right;\">\n",
       "      <th></th>\n",
       "      <th>count</th>\n",
       "      <th>mean</th>\n",
       "      <th>std</th>\n",
       "      <th>min</th>\n",
       "      <th>25%</th>\n",
       "      <th>50%</th>\n",
       "      <th>75%</th>\n",
       "      <th>max</th>\n",
       "    </tr>\n",
       "  </thead>\n",
       "  <tbody>\n",
       "    <tr>\n",
       "      <th>Recency</th>\n",
       "      <td>748.0</td>\n",
       "      <td>9.506684</td>\n",
       "      <td>8.095396</td>\n",
       "      <td>0.0</td>\n",
       "      <td>2.75</td>\n",
       "      <td>7.0</td>\n",
       "      <td>14.0</td>\n",
       "      <td>74.0</td>\n",
       "    </tr>\n",
       "    <tr>\n",
       "      <th>Frequency</th>\n",
       "      <td>748.0</td>\n",
       "      <td>5.514706</td>\n",
       "      <td>5.839307</td>\n",
       "      <td>1.0</td>\n",
       "      <td>2.00</td>\n",
       "      <td>4.0</td>\n",
       "      <td>7.0</td>\n",
       "      <td>50.0</td>\n",
       "    </tr>\n",
       "    <tr>\n",
       "      <th>Monetary</th>\n",
       "      <td>748.0</td>\n",
       "      <td>1378.676471</td>\n",
       "      <td>1459.826781</td>\n",
       "      <td>250.0</td>\n",
       "      <td>500.00</td>\n",
       "      <td>1000.0</td>\n",
       "      <td>1750.0</td>\n",
       "      <td>12500.0</td>\n",
       "    </tr>\n",
       "    <tr>\n",
       "      <th>Time</th>\n",
       "      <td>748.0</td>\n",
       "      <td>34.282086</td>\n",
       "      <td>24.376714</td>\n",
       "      <td>2.0</td>\n",
       "      <td>16.00</td>\n",
       "      <td>28.0</td>\n",
       "      <td>50.0</td>\n",
       "      <td>98.0</td>\n",
       "    </tr>\n",
       "    <tr>\n",
       "      <th>Target</th>\n",
       "      <td>748.0</td>\n",
       "      <td>0.237968</td>\n",
       "      <td>0.426124</td>\n",
       "      <td>0.0</td>\n",
       "      <td>0.00</td>\n",
       "      <td>0.0</td>\n",
       "      <td>0.0</td>\n",
       "      <td>1.0</td>\n",
       "    </tr>\n",
       "  </tbody>\n",
       "</table>\n",
       "</div>"
      ],
      "text/plain": [
       "           count         mean          std    min     25%     50%     75%  \\\n",
       "Recency    748.0     9.506684     8.095396    0.0    2.75     7.0    14.0   \n",
       "Frequency  748.0     5.514706     5.839307    1.0    2.00     4.0     7.0   \n",
       "Monetary   748.0  1378.676471  1459.826781  250.0  500.00  1000.0  1750.0   \n",
       "Time       748.0    34.282086    24.376714    2.0   16.00    28.0    50.0   \n",
       "Target     748.0     0.237968     0.426124    0.0    0.00     0.0     0.0   \n",
       "\n",
       "               max  \n",
       "Recency       74.0  \n",
       "Frequency     50.0  \n",
       "Monetary   12500.0  \n",
       "Time          98.0  \n",
       "Target         1.0  "
      ]
     },
     "execution_count": 13,
     "metadata": {},
     "output_type": "execute_result"
    }
   ],
   "source": [
    "df.describe().T"
   ]
  },
  {
   "cell_type": "markdown",
   "id": "fa4b439b",
   "metadata": {},
   "source": [
    "## Check unique values"
   ]
  },
  {
   "cell_type": "code",
   "execution_count": 14,
   "id": "cf27aa31",
   "metadata": {
    "ExecuteTime": {
     "end_time": "2023-09-18T18:46:11.842415Z",
     "start_time": "2023-09-18T18:46:11.832367Z"
    }
   },
   "outputs": [
    {
     "data": {
      "text/plain": [
       "array([ 2,  0,  1,  4,  5,  9,  3, 12,  6, 11, 10, 13,  8, 14,  7, 16, 15,\n",
       "       23, 21, 18, 22, 26, 35, 38, 40, 74, 20, 17, 25, 39, 72])"
      ]
     },
     "execution_count": 14,
     "metadata": {},
     "output_type": "execute_result"
    }
   ],
   "source": [
    "df.Recency.unique()"
   ]
  },
  {
   "cell_type": "code",
   "execution_count": 15,
   "id": "17e738f2",
   "metadata": {},
   "outputs": [
    {
     "data": {
      "text/plain": [
       "31"
      ]
     },
     "execution_count": 15,
     "metadata": {},
     "output_type": "execute_result"
    }
   ],
   "source": [
    "df.Recency.nunique()"
   ]
  },
  {
   "cell_type": "code",
   "execution_count": 16,
   "id": "622f54d1",
   "metadata": {},
   "outputs": [
    {
     "data": {
      "text/plain": [
       "array([1, 0])"
      ]
     },
     "execution_count": 16,
     "metadata": {},
     "output_type": "execute_result"
    }
   ],
   "source": [
    "df.Target.unique()"
   ]
  },
  {
   "cell_type": "code",
   "execution_count": 17,
   "id": "8688e45e",
   "metadata": {},
   "outputs": [
    {
     "data": {
      "text/plain": [
       "2"
      ]
     },
     "execution_count": 17,
     "metadata": {},
     "output_type": "execute_result"
    }
   ],
   "source": [
    "df.Target.nunique()"
   ]
  },
  {
   "cell_type": "markdown",
   "id": "1ffb749a",
   "metadata": {},
   "source": [
    "## Calculate the average of 'Recency'"
   ]
  },
  {
   "cell_type": "code",
   "execution_count": 18,
   "id": "9f633a3a",
   "metadata": {
    "ExecuteTime": {
     "end_time": "2023-09-18T18:48:36.728653Z",
     "start_time": "2023-09-18T18:48:36.721441Z"
    }
   },
   "outputs": [
    {
     "data": {
      "text/plain": [
       "9.506684491978609"
      ]
     },
     "execution_count": 18,
     "metadata": {},
     "output_type": "execute_result"
    }
   ],
   "source": [
    "df.Recency.mean()"
   ]
  },
  {
   "cell_type": "markdown",
   "id": "4bb9ac76",
   "metadata": {},
   "source": [
    "## Find the highest value in 'Frequency'"
   ]
  },
  {
   "cell_type": "code",
   "execution_count": 19,
   "id": "98e8fffd",
   "metadata": {
    "ExecuteTime": {
     "end_time": "2023-09-18T18:49:18.765738Z",
     "start_time": "2023-09-18T18:49:18.758283Z"
    }
   },
   "outputs": [
    {
     "data": {
      "text/plain": [
       "50"
      ]
     },
     "execution_count": 19,
     "metadata": {},
     "output_type": "execute_result"
    }
   ],
   "source": [
    "df.Frequency.max()"
   ]
  },
  {
   "cell_type": "markdown",
   "id": "bd9a78fc",
   "metadata": {},
   "source": [
    "## Calculate the median of 'Time'"
   ]
  },
  {
   "cell_type": "code",
   "execution_count": 20,
   "id": "131b6d73",
   "metadata": {
    "ExecuteTime": {
     "end_time": "2023-09-18T18:49:56.198362Z",
     "start_time": "2023-09-18T18:49:56.187918Z"
    }
   },
   "outputs": [
    {
     "data": {
      "text/plain": [
       "28.0"
      ]
     },
     "execution_count": 20,
     "metadata": {},
     "output_type": "execute_result"
    }
   ],
   "source": [
    "df.Time.median()"
   ]
  },
  {
   "cell_type": "markdown",
   "id": "3b9dd3d5",
   "metadata": {},
   "source": [
    "## Calculate the standard deviation of 'Monetary'"
   ]
  },
  {
   "cell_type": "code",
   "execution_count": 21,
   "id": "6b378aa9",
   "metadata": {
    "ExecuteTime": {
     "end_time": "2023-09-18T18:53:39.295970Z",
     "start_time": "2023-09-18T18:53:39.285229Z"
    }
   },
   "outputs": [
    {
     "data": {
      "text/plain": [
       "1459.8267807725035"
      ]
     },
     "execution_count": 21,
     "metadata": {},
     "output_type": "execute_result"
    }
   ],
   "source": [
    "df.Monetary.std()"
   ]
  },
  {
   "cell_type": "markdown",
   "id": "b2f92cae",
   "metadata": {},
   "source": [
    "## Count the number of unique values in 'Time'"
   ]
  },
  {
   "cell_type": "code",
   "execution_count": 22,
   "id": "ceb5de5e",
   "metadata": {
    "ExecuteTime": {
     "end_time": "2023-09-18T19:00:29.684969Z",
     "start_time": "2023-09-18T19:00:29.675625Z"
    }
   },
   "outputs": [
    {
     "data": {
      "text/plain": [
       "array([98, 28, 35, 45, 77,  4, 14, 22, 58, 47, 15, 11, 48, 49, 16, 40, 34,\n",
       "       21, 26, 64, 57, 53, 69, 36,  2, 46, 52, 81, 29,  9, 74, 25, 51, 71,\n",
       "       23, 86, 38, 76, 70, 59, 82, 61, 79, 41, 33, 10, 95, 88, 19, 37, 39,\n",
       "       78, 42, 27, 24, 63, 43, 75, 73, 50, 60, 17, 72, 62, 30, 31, 65, 89,\n",
       "       87, 93, 83, 32, 12, 18, 55,  3, 13, 54])"
      ]
     },
     "execution_count": 22,
     "metadata": {},
     "output_type": "execute_result"
    }
   ],
   "source": [
    "df.Time.unique()"
   ]
  },
  {
   "cell_type": "code",
   "execution_count": 23,
   "id": "fb7da5ea",
   "metadata": {},
   "outputs": [
    {
     "data": {
      "text/plain": [
       "78"
      ]
     },
     "execution_count": 23,
     "metadata": {},
     "output_type": "execute_result"
    }
   ],
   "source": [
    "df.Time.nunique()"
   ]
  },
  {
   "cell_type": "markdown",
   "id": "10fdfc75",
   "metadata": {},
   "source": [
    "## Calculate the ratio of donors in March 2007 (Target=1) to total donors"
   ]
  },
  {
   "cell_type": "code",
   "execution_count": 24,
   "id": "9a271a1d",
   "metadata": {
    "ExecuteTime": {
     "end_time": "2023-09-18T19:03:59.962639Z",
     "start_time": "2023-09-18T19:03:59.949649Z"
    }
   },
   "outputs": [
    {
     "name": "stderr",
     "output_type": "stream",
     "text": [
      "/var/folders/xn/jzmbnhgd7bs4zlpc8d7m_wdm0000gn/T/ipykernel_6013/2208735517.py:1: FutureWarning: Series.__getitem__ treating keys as positions is deprecated. In a future version, integer keys will always be treated as labels (consistent with DataFrame behavior). To access a value by position, use `ser.iloc[pos]`\n",
      "  df[df[\"Target\"] == 1].count()[0]\n"
     ]
    },
    {
     "data": {
      "text/plain": [
       "178"
      ]
     },
     "execution_count": 24,
     "metadata": {},
     "output_type": "execute_result"
    }
   ],
   "source": [
    "df[df[\"Target\"] == 1].count()[0]"
   ]
  },
  {
   "cell_type": "code",
   "execution_count": 25,
   "id": "c823de7a",
   "metadata": {},
   "outputs": [
    {
     "name": "stderr",
     "output_type": "stream",
     "text": [
      "/var/folders/xn/jzmbnhgd7bs4zlpc8d7m_wdm0000gn/T/ipykernel_6013/2312386708.py:1: FutureWarning: Series.__getitem__ treating keys as positions is deprecated. In a future version, integer keys will always be treated as labels (consistent with DataFrame behavior). To access a value by position, use `ser.iloc[pos]`\n",
      "  df[df[\"Target\"] == 1].count()[0] / len(df)\n"
     ]
    },
    {
     "data": {
      "text/plain": [
       "0.23796791443850268"
      ]
     },
     "execution_count": 25,
     "metadata": {},
     "output_type": "execute_result"
    }
   ],
   "source": [
    "df[df[\"Target\"] == 1].count()[0] / len(df)"
   ]
  },
  {
   "cell_type": "code",
   "execution_count": 26,
   "id": "e7858591",
   "metadata": {},
   "outputs": [
    {
     "data": {
      "text/plain": [
       "Target\n",
       "0    570\n",
       "1    178\n",
       "Name: count, dtype: int64"
      ]
     },
     "execution_count": 26,
     "metadata": {},
     "output_type": "execute_result"
    }
   ],
   "source": [
    "df.Target.value_counts()"
   ]
  },
  {
   "cell_type": "code",
   "execution_count": 27,
   "id": "9ad02029",
   "metadata": {},
   "outputs": [
    {
     "data": {
      "text/plain": [
       "Target\n",
       "0    0.762032\n",
       "1    0.237968\n",
       "Name: proportion, dtype: float64"
      ]
     },
     "execution_count": 27,
     "metadata": {},
     "output_type": "execute_result"
    }
   ],
   "source": [
    "df.Target.value_counts(normalize=True)"
   ]
  },
  {
   "cell_type": "markdown",
   "id": "3ac55e2c",
   "metadata": {},
   "source": [
    "## Filter donors with 'Recency' less than 10 months"
   ]
  },
  {
   "cell_type": "code",
   "execution_count": 28,
   "id": "af549d50",
   "metadata": {
    "ExecuteTime": {
     "end_time": "2023-09-18T19:07:56.907556Z",
     "start_time": "2023-09-18T19:07:56.899637Z"
    }
   },
   "outputs": [
    {
     "data": {
      "text/html": [
       "<div>\n",
       "<style scoped>\n",
       "    .dataframe tbody tr th:only-of-type {\n",
       "        vertical-align: middle;\n",
       "    }\n",
       "\n",
       "    .dataframe tbody tr th {\n",
       "        vertical-align: top;\n",
       "    }\n",
       "\n",
       "    .dataframe thead th {\n",
       "        text-align: right;\n",
       "    }\n",
       "</style>\n",
       "<table border=\"1\" class=\"dataframe\">\n",
       "  <thead>\n",
       "    <tr style=\"text-align: right;\">\n",
       "      <th></th>\n",
       "      <th>Recency</th>\n",
       "      <th>Frequency</th>\n",
       "      <th>Monetary</th>\n",
       "      <th>Time</th>\n",
       "      <th>Target</th>\n",
       "    </tr>\n",
       "  </thead>\n",
       "  <tbody>\n",
       "    <tr>\n",
       "      <th>0</th>\n",
       "      <td>2</td>\n",
       "      <td>50</td>\n",
       "      <td>12500</td>\n",
       "      <td>98</td>\n",
       "      <td>1</td>\n",
       "    </tr>\n",
       "    <tr>\n",
       "      <th>1</th>\n",
       "      <td>0</td>\n",
       "      <td>13</td>\n",
       "      <td>3250</td>\n",
       "      <td>28</td>\n",
       "      <td>1</td>\n",
       "    </tr>\n",
       "    <tr>\n",
       "      <th>2</th>\n",
       "      <td>1</td>\n",
       "      <td>16</td>\n",
       "      <td>4000</td>\n",
       "      <td>35</td>\n",
       "      <td>1</td>\n",
       "    </tr>\n",
       "    <tr>\n",
       "      <th>3</th>\n",
       "      <td>2</td>\n",
       "      <td>20</td>\n",
       "      <td>5000</td>\n",
       "      <td>45</td>\n",
       "      <td>1</td>\n",
       "    </tr>\n",
       "    <tr>\n",
       "      <th>4</th>\n",
       "      <td>1</td>\n",
       "      <td>24</td>\n",
       "      <td>6000</td>\n",
       "      <td>77</td>\n",
       "      <td>0</td>\n",
       "    </tr>\n",
       "    <tr>\n",
       "      <th>...</th>\n",
       "      <td>...</td>\n",
       "      <td>...</td>\n",
       "      <td>...</td>\n",
       "      <td>...</td>\n",
       "      <td>...</td>\n",
       "    </tr>\n",
       "    <tr>\n",
       "      <th>653</th>\n",
       "      <td>4</td>\n",
       "      <td>2</td>\n",
       "      <td>500</td>\n",
       "      <td>30</td>\n",
       "      <td>0</td>\n",
       "    </tr>\n",
       "    <tr>\n",
       "      <th>656</th>\n",
       "      <td>4</td>\n",
       "      <td>2</td>\n",
       "      <td>500</td>\n",
       "      <td>31</td>\n",
       "      <td>0</td>\n",
       "    </tr>\n",
       "    <tr>\n",
       "      <th>669</th>\n",
       "      <td>2</td>\n",
       "      <td>3</td>\n",
       "      <td>750</td>\n",
       "      <td>75</td>\n",
       "      <td>1</td>\n",
       "    </tr>\n",
       "    <tr>\n",
       "      <th>670</th>\n",
       "      <td>2</td>\n",
       "      <td>3</td>\n",
       "      <td>750</td>\n",
       "      <td>77</td>\n",
       "      <td>0</td>\n",
       "    </tr>\n",
       "    <tr>\n",
       "      <th>681</th>\n",
       "      <td>4</td>\n",
       "      <td>2</td>\n",
       "      <td>500</td>\n",
       "      <td>46</td>\n",
       "      <td>0</td>\n",
       "    </tr>\n",
       "  </tbody>\n",
       "</table>\n",
       "<p>401 rows × 5 columns</p>\n",
       "</div>"
      ],
      "text/plain": [
       "     Recency  Frequency  Monetary  Time  Target\n",
       "0          2         50     12500    98       1\n",
       "1          0         13      3250    28       1\n",
       "2          1         16      4000    35       1\n",
       "3          2         20      5000    45       1\n",
       "4          1         24      6000    77       0\n",
       "..       ...        ...       ...   ...     ...\n",
       "653        4          2       500    30       0\n",
       "656        4          2       500    31       0\n",
       "669        2          3       750    75       1\n",
       "670        2          3       750    77       0\n",
       "681        4          2       500    46       0\n",
       "\n",
       "[401 rows x 5 columns]"
      ]
     },
     "execution_count": 28,
     "metadata": {},
     "output_type": "execute_result"
    }
   ],
   "source": [
    "df[df[\"Recency\"] < 10]"
   ]
  },
  {
   "cell_type": "code",
   "execution_count": 29,
   "id": "9f67f5b4",
   "metadata": {},
   "outputs": [
    {
     "data": {
      "text/plain": [
       "401"
      ]
     },
     "execution_count": 29,
     "metadata": {},
     "output_type": "execute_result"
    }
   ],
   "source": [
    "len(df[df[\"Recency\"] < 10])"
   ]
  },
  {
   "cell_type": "markdown",
   "id": "08e5d37d",
   "metadata": {},
   "source": [
    "## Select donors who donated at least 5 times"
   ]
  },
  {
   "cell_type": "code",
   "execution_count": 30,
   "id": "2ed404bc",
   "metadata": {
    "ExecuteTime": {
     "end_time": "2023-09-18T19:11:43.280928Z",
     "start_time": "2023-09-18T19:11:43.256952Z"
    }
   },
   "outputs": [
    {
     "data": {
      "text/html": [
       "<div>\n",
       "<style scoped>\n",
       "    .dataframe tbody tr th:only-of-type {\n",
       "        vertical-align: middle;\n",
       "    }\n",
       "\n",
       "    .dataframe tbody tr th {\n",
       "        vertical-align: top;\n",
       "    }\n",
       "\n",
       "    .dataframe thead th {\n",
       "        text-align: right;\n",
       "    }\n",
       "</style>\n",
       "<table border=\"1\" class=\"dataframe\">\n",
       "  <thead>\n",
       "    <tr style=\"text-align: right;\">\n",
       "      <th></th>\n",
       "      <th>Recency</th>\n",
       "      <th>Frequency</th>\n",
       "      <th>Monetary</th>\n",
       "      <th>Time</th>\n",
       "      <th>Target</th>\n",
       "    </tr>\n",
       "  </thead>\n",
       "  <tbody>\n",
       "    <tr>\n",
       "      <th>0</th>\n",
       "      <td>2</td>\n",
       "      <td>50</td>\n",
       "      <td>12500</td>\n",
       "      <td>98</td>\n",
       "      <td>1</td>\n",
       "    </tr>\n",
       "    <tr>\n",
       "      <th>1</th>\n",
       "      <td>0</td>\n",
       "      <td>13</td>\n",
       "      <td>3250</td>\n",
       "      <td>28</td>\n",
       "      <td>1</td>\n",
       "    </tr>\n",
       "    <tr>\n",
       "      <th>2</th>\n",
       "      <td>1</td>\n",
       "      <td>16</td>\n",
       "      <td>4000</td>\n",
       "      <td>35</td>\n",
       "      <td>1</td>\n",
       "    </tr>\n",
       "    <tr>\n",
       "      <th>3</th>\n",
       "      <td>2</td>\n",
       "      <td>20</td>\n",
       "      <td>5000</td>\n",
       "      <td>45</td>\n",
       "      <td>1</td>\n",
       "    </tr>\n",
       "    <tr>\n",
       "      <th>4</th>\n",
       "      <td>1</td>\n",
       "      <td>24</td>\n",
       "      <td>6000</td>\n",
       "      <td>77</td>\n",
       "      <td>0</td>\n",
       "    </tr>\n",
       "    <tr>\n",
       "      <th>...</th>\n",
       "      <td>...</td>\n",
       "      <td>...</td>\n",
       "      <td>...</td>\n",
       "      <td>...</td>\n",
       "      <td>...</td>\n",
       "    </tr>\n",
       "    <tr>\n",
       "      <th>713</th>\n",
       "      <td>16</td>\n",
       "      <td>6</td>\n",
       "      <td>1500</td>\n",
       "      <td>81</td>\n",
       "      <td>0</td>\n",
       "    </tr>\n",
       "    <tr>\n",
       "      <th>715</th>\n",
       "      <td>16</td>\n",
       "      <td>5</td>\n",
       "      <td>1250</td>\n",
       "      <td>71</td>\n",
       "      <td>0</td>\n",
       "    </tr>\n",
       "    <tr>\n",
       "      <th>719</th>\n",
       "      <td>23</td>\n",
       "      <td>8</td>\n",
       "      <td>2000</td>\n",
       "      <td>69</td>\n",
       "      <td>0</td>\n",
       "    </tr>\n",
       "    <tr>\n",
       "      <th>726</th>\n",
       "      <td>25</td>\n",
       "      <td>6</td>\n",
       "      <td>1500</td>\n",
       "      <td>50</td>\n",
       "      <td>0</td>\n",
       "    </tr>\n",
       "    <tr>\n",
       "      <th>741</th>\n",
       "      <td>23</td>\n",
       "      <td>7</td>\n",
       "      <td>1750</td>\n",
       "      <td>88</td>\n",
       "      <td>0</td>\n",
       "    </tr>\n",
       "  </tbody>\n",
       "</table>\n",
       "<p>329 rows × 5 columns</p>\n",
       "</div>"
      ],
      "text/plain": [
       "     Recency  Frequency  Monetary  Time  Target\n",
       "0          2         50     12500    98       1\n",
       "1          0         13      3250    28       1\n",
       "2          1         16      4000    35       1\n",
       "3          2         20      5000    45       1\n",
       "4          1         24      6000    77       0\n",
       "..       ...        ...       ...   ...     ...\n",
       "713       16          6      1500    81       0\n",
       "715       16          5      1250    71       0\n",
       "719       23          8      2000    69       0\n",
       "726       25          6      1500    50       0\n",
       "741       23          7      1750    88       0\n",
       "\n",
       "[329 rows x 5 columns]"
      ]
     },
     "execution_count": 30,
     "metadata": {},
     "output_type": "execute_result"
    }
   ],
   "source": [
    "df[df[\"Frequency\"] >= 5]"
   ]
  },
  {
   "cell_type": "code",
   "execution_count": 31,
   "id": "95072558",
   "metadata": {},
   "outputs": [
    {
     "data": {
      "text/plain": [
       "329"
      ]
     },
     "execution_count": 31,
     "metadata": {},
     "output_type": "execute_result"
    }
   ],
   "source": [
    "len(df[df[\"Frequency\"] >= 5])"
   ]
  },
  {
   "cell_type": "markdown",
   "id": "6d440f96",
   "metadata": {},
   "source": [
    "## Create a new column giving the time between the first donation and the last donation"
   ]
  },
  {
   "cell_type": "code",
   "execution_count": 32,
   "id": "83291cf1",
   "metadata": {
    "ExecuteTime": {
     "end_time": "2023-09-18T19:18:30.265962Z",
     "start_time": "2023-09-18T19:18:30.252541Z"
    }
   },
   "outputs": [
    {
     "data": {
      "text/plain": [
       "0      96\n",
       "1      28\n",
       "2      34\n",
       "3      43\n",
       "4      76\n",
       "       ..\n",
       "743    15\n",
       "744    31\n",
       "745    39\n",
       "746     0\n",
       "747     0\n",
       "Name: Donation_Period, Length: 748, dtype: int64"
      ]
     },
     "execution_count": 32,
     "metadata": {},
     "output_type": "execute_result"
    }
   ],
   "source": [
    "df[\"Donation_Period\"] = df.Time - df.Recency\n",
    "df[\"Donation_Period\"]"
   ]
  },
  {
   "cell_type": "code",
   "execution_count": 33,
   "id": "15012b04",
   "metadata": {},
   "outputs": [
    {
     "data": {
      "text/html": [
       "<div>\n",
       "<style scoped>\n",
       "    .dataframe tbody tr th:only-of-type {\n",
       "        vertical-align: middle;\n",
       "    }\n",
       "\n",
       "    .dataframe tbody tr th {\n",
       "        vertical-align: top;\n",
       "    }\n",
       "\n",
       "    .dataframe thead th {\n",
       "        text-align: right;\n",
       "    }\n",
       "</style>\n",
       "<table border=\"1\" class=\"dataframe\">\n",
       "  <thead>\n",
       "    <tr style=\"text-align: right;\">\n",
       "      <th></th>\n",
       "      <th>Recency</th>\n",
       "      <th>Frequency</th>\n",
       "      <th>Monetary</th>\n",
       "      <th>Time</th>\n",
       "      <th>Target</th>\n",
       "      <th>Donation_Period</th>\n",
       "    </tr>\n",
       "  </thead>\n",
       "  <tbody>\n",
       "    <tr>\n",
       "      <th>0</th>\n",
       "      <td>2</td>\n",
       "      <td>50</td>\n",
       "      <td>12500</td>\n",
       "      <td>98</td>\n",
       "      <td>1</td>\n",
       "      <td>96</td>\n",
       "    </tr>\n",
       "    <tr>\n",
       "      <th>1</th>\n",
       "      <td>0</td>\n",
       "      <td>13</td>\n",
       "      <td>3250</td>\n",
       "      <td>28</td>\n",
       "      <td>1</td>\n",
       "      <td>28</td>\n",
       "    </tr>\n",
       "    <tr>\n",
       "      <th>2</th>\n",
       "      <td>1</td>\n",
       "      <td>16</td>\n",
       "      <td>4000</td>\n",
       "      <td>35</td>\n",
       "      <td>1</td>\n",
       "      <td>34</td>\n",
       "    </tr>\n",
       "    <tr>\n",
       "      <th>3</th>\n",
       "      <td>2</td>\n",
       "      <td>20</td>\n",
       "      <td>5000</td>\n",
       "      <td>45</td>\n",
       "      <td>1</td>\n",
       "      <td>43</td>\n",
       "    </tr>\n",
       "    <tr>\n",
       "      <th>4</th>\n",
       "      <td>1</td>\n",
       "      <td>24</td>\n",
       "      <td>6000</td>\n",
       "      <td>77</td>\n",
       "      <td>0</td>\n",
       "      <td>76</td>\n",
       "    </tr>\n",
       "    <tr>\n",
       "      <th>...</th>\n",
       "      <td>...</td>\n",
       "      <td>...</td>\n",
       "      <td>...</td>\n",
       "      <td>...</td>\n",
       "      <td>...</td>\n",
       "      <td>...</td>\n",
       "    </tr>\n",
       "    <tr>\n",
       "      <th>743</th>\n",
       "      <td>23</td>\n",
       "      <td>2</td>\n",
       "      <td>500</td>\n",
       "      <td>38</td>\n",
       "      <td>0</td>\n",
       "      <td>15</td>\n",
       "    </tr>\n",
       "    <tr>\n",
       "      <th>744</th>\n",
       "      <td>21</td>\n",
       "      <td>2</td>\n",
       "      <td>500</td>\n",
       "      <td>52</td>\n",
       "      <td>0</td>\n",
       "      <td>31</td>\n",
       "    </tr>\n",
       "    <tr>\n",
       "      <th>745</th>\n",
       "      <td>23</td>\n",
       "      <td>3</td>\n",
       "      <td>750</td>\n",
       "      <td>62</td>\n",
       "      <td>0</td>\n",
       "      <td>39</td>\n",
       "    </tr>\n",
       "    <tr>\n",
       "      <th>746</th>\n",
       "      <td>39</td>\n",
       "      <td>1</td>\n",
       "      <td>250</td>\n",
       "      <td>39</td>\n",
       "      <td>0</td>\n",
       "      <td>0</td>\n",
       "    </tr>\n",
       "    <tr>\n",
       "      <th>747</th>\n",
       "      <td>72</td>\n",
       "      <td>1</td>\n",
       "      <td>250</td>\n",
       "      <td>72</td>\n",
       "      <td>0</td>\n",
       "      <td>0</td>\n",
       "    </tr>\n",
       "  </tbody>\n",
       "</table>\n",
       "<p>748 rows × 6 columns</p>\n",
       "</div>"
      ],
      "text/plain": [
       "     Recency  Frequency  Monetary  Time  Target  Donation_Period\n",
       "0          2         50     12500    98       1               96\n",
       "1          0         13      3250    28       1               28\n",
       "2          1         16      4000    35       1               34\n",
       "3          2         20      5000    45       1               43\n",
       "4          1         24      6000    77       0               76\n",
       "..       ...        ...       ...   ...     ...              ...\n",
       "743       23          2       500    38       0               15\n",
       "744       21          2       500    52       0               31\n",
       "745       23          3       750    62       0               39\n",
       "746       39          1       250    39       0                0\n",
       "747       72          1       250    72       0                0\n",
       "\n",
       "[748 rows x 6 columns]"
      ]
     },
     "execution_count": 33,
     "metadata": {},
     "output_type": "execute_result"
    }
   ],
   "source": [
    "df"
   ]
  },
  {
   "cell_type": "markdown",
   "id": "ea4008ad",
   "metadata": {},
   "source": [
    "## Outlier Analysis for 'Frequency'"
   ]
  },
  {
   "cell_type": "code",
   "execution_count": 34,
   "id": "f132c6f5",
   "metadata": {},
   "outputs": [
    {
     "data": {
      "text/html": [
       "<div>\n",
       "<style scoped>\n",
       "    .dataframe tbody tr th:only-of-type {\n",
       "        vertical-align: middle;\n",
       "    }\n",
       "\n",
       "    .dataframe tbody tr th {\n",
       "        vertical-align: top;\n",
       "    }\n",
       "\n",
       "    .dataframe thead th {\n",
       "        text-align: right;\n",
       "    }\n",
       "</style>\n",
       "<table border=\"1\" class=\"dataframe\">\n",
       "  <thead>\n",
       "    <tr style=\"text-align: right;\">\n",
       "      <th></th>\n",
       "      <th>count</th>\n",
       "      <th>mean</th>\n",
       "      <th>std</th>\n",
       "      <th>min</th>\n",
       "      <th>25%</th>\n",
       "      <th>50%</th>\n",
       "      <th>75%</th>\n",
       "      <th>max</th>\n",
       "    </tr>\n",
       "  </thead>\n",
       "  <tbody>\n",
       "    <tr>\n",
       "      <th>Recency</th>\n",
       "      <td>748.0</td>\n",
       "      <td>9.506684</td>\n",
       "      <td>8.095396</td>\n",
       "      <td>0.0</td>\n",
       "      <td>2.75</td>\n",
       "      <td>7.0</td>\n",
       "      <td>14.0</td>\n",
       "      <td>74.0</td>\n",
       "    </tr>\n",
       "    <tr>\n",
       "      <th>Frequency</th>\n",
       "      <td>748.0</td>\n",
       "      <td>5.514706</td>\n",
       "      <td>5.839307</td>\n",
       "      <td>1.0</td>\n",
       "      <td>2.00</td>\n",
       "      <td>4.0</td>\n",
       "      <td>7.0</td>\n",
       "      <td>50.0</td>\n",
       "    </tr>\n",
       "    <tr>\n",
       "      <th>Monetary</th>\n",
       "      <td>748.0</td>\n",
       "      <td>1378.676471</td>\n",
       "      <td>1459.826781</td>\n",
       "      <td>250.0</td>\n",
       "      <td>500.00</td>\n",
       "      <td>1000.0</td>\n",
       "      <td>1750.0</td>\n",
       "      <td>12500.0</td>\n",
       "    </tr>\n",
       "    <tr>\n",
       "      <th>Time</th>\n",
       "      <td>748.0</td>\n",
       "      <td>34.282086</td>\n",
       "      <td>24.376714</td>\n",
       "      <td>2.0</td>\n",
       "      <td>16.00</td>\n",
       "      <td>28.0</td>\n",
       "      <td>50.0</td>\n",
       "      <td>98.0</td>\n",
       "    </tr>\n",
       "    <tr>\n",
       "      <th>Target</th>\n",
       "      <td>748.0</td>\n",
       "      <td>0.237968</td>\n",
       "      <td>0.426124</td>\n",
       "      <td>0.0</td>\n",
       "      <td>0.00</td>\n",
       "      <td>0.0</td>\n",
       "      <td>0.0</td>\n",
       "      <td>1.0</td>\n",
       "    </tr>\n",
       "    <tr>\n",
       "      <th>Donation_Period</th>\n",
       "      <td>748.0</td>\n",
       "      <td>24.775401</td>\n",
       "      <td>24.420630</td>\n",
       "      <td>0.0</td>\n",
       "      <td>0.00</td>\n",
       "      <td>19.0</td>\n",
       "      <td>41.0</td>\n",
       "      <td>96.0</td>\n",
       "    </tr>\n",
       "  </tbody>\n",
       "</table>\n",
       "</div>"
      ],
      "text/plain": [
       "                 count         mean          std    min     25%     50%  \\\n",
       "Recency          748.0     9.506684     8.095396    0.0    2.75     7.0   \n",
       "Frequency        748.0     5.514706     5.839307    1.0    2.00     4.0   \n",
       "Monetary         748.0  1378.676471  1459.826781  250.0  500.00  1000.0   \n",
       "Time             748.0    34.282086    24.376714    2.0   16.00    28.0   \n",
       "Target           748.0     0.237968     0.426124    0.0    0.00     0.0   \n",
       "Donation_Period  748.0    24.775401    24.420630    0.0    0.00    19.0   \n",
       "\n",
       "                    75%      max  \n",
       "Recency            14.0     74.0  \n",
       "Frequency           7.0     50.0  \n",
       "Monetary         1750.0  12500.0  \n",
       "Time               50.0     98.0  \n",
       "Target              0.0      1.0  \n",
       "Donation_Period    41.0     96.0  "
      ]
     },
     "execution_count": 34,
     "metadata": {},
     "output_type": "execute_result"
    }
   ],
   "source": [
    "df.describe().T"
   ]
  },
  {
   "cell_type": "code",
   "execution_count": 35,
   "id": "5d09d378",
   "metadata": {
    "ExecuteTime": {
     "end_time": "2023-09-18T19:42:07.896387Z",
     "start_time": "2023-09-18T19:42:07.879087Z"
    }
   },
   "outputs": [
    {
     "data": {
      "text/plain": [
       "2.0"
      ]
     },
     "execution_count": 35,
     "metadata": {},
     "output_type": "execute_result"
    }
   ],
   "source": [
    "q1 = df.Frequency.quantile(0.25)\n",
    "q1"
   ]
  },
  {
   "cell_type": "code",
   "execution_count": 36,
   "id": "f6310050",
   "metadata": {},
   "outputs": [
    {
     "data": {
      "text/plain": [
       "7.0"
      ]
     },
     "execution_count": 36,
     "metadata": {},
     "output_type": "execute_result"
    }
   ],
   "source": [
    "q3 = df.Frequency.quantile(0.75)\n",
    "q3"
   ]
  },
  {
   "cell_type": "code",
   "execution_count": 37,
   "id": "b18712bf",
   "metadata": {},
   "outputs": [
    {
     "data": {
      "text/plain": [
       "5.0"
      ]
     },
     "execution_count": 37,
     "metadata": {},
     "output_type": "execute_result"
    }
   ],
   "source": [
    "iqr = q3 - q1\n",
    "iqr"
   ]
  },
  {
   "cell_type": "code",
   "execution_count": 38,
   "id": "890473b0",
   "metadata": {},
   "outputs": [
    {
     "data": {
      "text/html": [
       "<div>\n",
       "<style scoped>\n",
       "    .dataframe tbody tr th:only-of-type {\n",
       "        vertical-align: middle;\n",
       "    }\n",
       "\n",
       "    .dataframe tbody tr th {\n",
       "        vertical-align: top;\n",
       "    }\n",
       "\n",
       "    .dataframe thead th {\n",
       "        text-align: right;\n",
       "    }\n",
       "</style>\n",
       "<table border=\"1\" class=\"dataframe\">\n",
       "  <thead>\n",
       "    <tr style=\"text-align: right;\">\n",
       "      <th></th>\n",
       "      <th>Recency</th>\n",
       "      <th>Frequency</th>\n",
       "      <th>Monetary</th>\n",
       "      <th>Time</th>\n",
       "      <th>Target</th>\n",
       "      <th>Donation_Period</th>\n",
       "    </tr>\n",
       "  </thead>\n",
       "  <tbody>\n",
       "    <tr>\n",
       "      <th>0</th>\n",
       "      <td>2</td>\n",
       "      <td>50</td>\n",
       "      <td>12500</td>\n",
       "      <td>98</td>\n",
       "      <td>1</td>\n",
       "      <td>96</td>\n",
       "    </tr>\n",
       "    <tr>\n",
       "      <th>4</th>\n",
       "      <td>1</td>\n",
       "      <td>24</td>\n",
       "      <td>6000</td>\n",
       "      <td>77</td>\n",
       "      <td>0</td>\n",
       "      <td>76</td>\n",
       "    </tr>\n",
       "    <tr>\n",
       "      <th>9</th>\n",
       "      <td>5</td>\n",
       "      <td>46</td>\n",
       "      <td>11500</td>\n",
       "      <td>98</td>\n",
       "      <td>1</td>\n",
       "      <td>93</td>\n",
       "    </tr>\n",
       "    <tr>\n",
       "      <th>10</th>\n",
       "      <td>4</td>\n",
       "      <td>23</td>\n",
       "      <td>5750</td>\n",
       "      <td>58</td>\n",
       "      <td>0</td>\n",
       "      <td>54</td>\n",
       "    </tr>\n",
       "    <tr>\n",
       "      <th>115</th>\n",
       "      <td>11</td>\n",
       "      <td>24</td>\n",
       "      <td>6000</td>\n",
       "      <td>64</td>\n",
       "      <td>0</td>\n",
       "      <td>53</td>\n",
       "    </tr>\n",
       "    <tr>\n",
       "      <th>341</th>\n",
       "      <td>23</td>\n",
       "      <td>38</td>\n",
       "      <td>9500</td>\n",
       "      <td>98</td>\n",
       "      <td>0</td>\n",
       "      <td>75</td>\n",
       "    </tr>\n",
       "    <tr>\n",
       "      <th>500</th>\n",
       "      <td>2</td>\n",
       "      <td>43</td>\n",
       "      <td>10750</td>\n",
       "      <td>86</td>\n",
       "      <td>1</td>\n",
       "      <td>84</td>\n",
       "    </tr>\n",
       "    <tr>\n",
       "      <th>502</th>\n",
       "      <td>2</td>\n",
       "      <td>34</td>\n",
       "      <td>8500</td>\n",
       "      <td>77</td>\n",
       "      <td>1</td>\n",
       "      <td>75</td>\n",
       "    </tr>\n",
       "    <tr>\n",
       "      <th>503</th>\n",
       "      <td>2</td>\n",
       "      <td>44</td>\n",
       "      <td>11000</td>\n",
       "      <td>98</td>\n",
       "      <td>0</td>\n",
       "      <td>96</td>\n",
       "    </tr>\n",
       "    <tr>\n",
       "      <th>504</th>\n",
       "      <td>0</td>\n",
       "      <td>26</td>\n",
       "      <td>6500</td>\n",
       "      <td>76</td>\n",
       "      <td>1</td>\n",
       "      <td>76</td>\n",
       "    </tr>\n",
       "    <tr>\n",
       "      <th>505</th>\n",
       "      <td>2</td>\n",
       "      <td>41</td>\n",
       "      <td>10250</td>\n",
       "      <td>98</td>\n",
       "      <td>1</td>\n",
       "      <td>96</td>\n",
       "    </tr>\n",
       "    <tr>\n",
       "      <th>517</th>\n",
       "      <td>4</td>\n",
       "      <td>33</td>\n",
       "      <td>8250</td>\n",
       "      <td>98</td>\n",
       "      <td>1</td>\n",
       "      <td>94</td>\n",
       "    </tr>\n",
       "    <tr>\n",
       "      <th>528</th>\n",
       "      <td>5</td>\n",
       "      <td>24</td>\n",
       "      <td>6000</td>\n",
       "      <td>79</td>\n",
       "      <td>0</td>\n",
       "      <td>74</td>\n",
       "    </tr>\n",
       "  </tbody>\n",
       "</table>\n",
       "</div>"
      ],
      "text/plain": [
       "     Recency  Frequency  Monetary  Time  Target  Donation_Period\n",
       "0          2         50     12500    98       1               96\n",
       "4          1         24      6000    77       0               76\n",
       "9          5         46     11500    98       1               93\n",
       "10         4         23      5750    58       0               54\n",
       "115       11         24      6000    64       0               53\n",
       "341       23         38      9500    98       0               75\n",
       "500        2         43     10750    86       1               84\n",
       "502        2         34      8500    77       1               75\n",
       "503        2         44     11000    98       0               96\n",
       "504        0         26      6500    76       1               76\n",
       "505        2         41     10250    98       1               96\n",
       "517        4         33      8250    98       1               94\n",
       "528        5         24      6000    79       0               74"
      ]
     },
     "execution_count": 38,
     "metadata": {},
     "output_type": "execute_result"
    }
   ],
   "source": [
    "df[df[\"Frequency\"] > 22]"
   ]
  },
  {
   "cell_type": "code",
   "execution_count": 39,
   "id": "1b3a7bc5",
   "metadata": {},
   "outputs": [
    {
     "data": {
      "text/plain": [
       "13"
      ]
     },
     "execution_count": 39,
     "metadata": {},
     "output_type": "execute_result"
    }
   ],
   "source": [
    "len(df[df[\"Frequency\"] > 22])"
   ]
  },
  {
   "cell_type": "code",
   "execution_count": 40,
   "id": "b14e60dc",
   "metadata": {},
   "outputs": [
    {
     "data": {
      "text/plain": [
       "45"
      ]
     },
     "execution_count": 40,
     "metadata": {},
     "output_type": "execute_result"
    }
   ],
   "source": [
    "len(df[df[\"Frequency\"] > 14.5])"
   ]
  },
  {
   "cell_type": "markdown",
   "id": "575bc6c2",
   "metadata": {},
   "source": [
    "## Create a simple scoring model based on 'Recency' and 'Frequency'"
   ]
  },
  {
   "cell_type": "code",
   "execution_count": 41,
   "id": "cddd1f18",
   "metadata": {
    "ExecuteTime": {
     "end_time": "2023-09-18T20:02:39.467203Z",
     "start_time": "2023-09-18T20:02:39.440700Z"
    }
   },
   "outputs": [
    {
     "data": {
      "text/html": [
       "<div>\n",
       "<style scoped>\n",
       "    .dataframe tbody tr th:only-of-type {\n",
       "        vertical-align: middle;\n",
       "    }\n",
       "\n",
       "    .dataframe tbody tr th {\n",
       "        vertical-align: top;\n",
       "    }\n",
       "\n",
       "    .dataframe thead th {\n",
       "        text-align: right;\n",
       "    }\n",
       "</style>\n",
       "<table border=\"1\" class=\"dataframe\">\n",
       "  <thead>\n",
       "    <tr style=\"text-align: right;\">\n",
       "      <th></th>\n",
       "      <th>Recency</th>\n",
       "      <th>Frequency</th>\n",
       "      <th>Monetary</th>\n",
       "      <th>Time</th>\n",
       "      <th>Target</th>\n",
       "      <th>Donation_Period</th>\n",
       "    </tr>\n",
       "  </thead>\n",
       "  <tbody>\n",
       "    <tr>\n",
       "      <th>0</th>\n",
       "      <td>2</td>\n",
       "      <td>50</td>\n",
       "      <td>12500</td>\n",
       "      <td>98</td>\n",
       "      <td>1</td>\n",
       "      <td>96</td>\n",
       "    </tr>\n",
       "    <tr>\n",
       "      <th>1</th>\n",
       "      <td>0</td>\n",
       "      <td>13</td>\n",
       "      <td>3250</td>\n",
       "      <td>28</td>\n",
       "      <td>1</td>\n",
       "      <td>28</td>\n",
       "    </tr>\n",
       "    <tr>\n",
       "      <th>2</th>\n",
       "      <td>1</td>\n",
       "      <td>16</td>\n",
       "      <td>4000</td>\n",
       "      <td>35</td>\n",
       "      <td>1</td>\n",
       "      <td>34</td>\n",
       "    </tr>\n",
       "    <tr>\n",
       "      <th>3</th>\n",
       "      <td>2</td>\n",
       "      <td>20</td>\n",
       "      <td>5000</td>\n",
       "      <td>45</td>\n",
       "      <td>1</td>\n",
       "      <td>43</td>\n",
       "    </tr>\n",
       "    <tr>\n",
       "      <th>4</th>\n",
       "      <td>1</td>\n",
       "      <td>24</td>\n",
       "      <td>6000</td>\n",
       "      <td>77</td>\n",
       "      <td>0</td>\n",
       "      <td>76</td>\n",
       "    </tr>\n",
       "  </tbody>\n",
       "</table>\n",
       "</div>"
      ],
      "text/plain": [
       "   Recency  Frequency  Monetary  Time  Target  Donation_Period\n",
       "0        2         50     12500    98       1               96\n",
       "1        0         13      3250    28       1               28\n",
       "2        1         16      4000    35       1               34\n",
       "3        2         20      5000    45       1               43\n",
       "4        1         24      6000    77       0               76"
      ]
     },
     "execution_count": 41,
     "metadata": {},
     "output_type": "execute_result"
    }
   ],
   "source": [
    "df.head()"
   ]
  },
  {
   "cell_type": "code",
   "execution_count": 42,
   "id": "aa8c5703",
   "metadata": {},
   "outputs": [
    {
     "data": {
      "text/plain": [
       "0      50.500000\n",
       "1            inf\n",
       "2      17.000000\n",
       "3      20.500000\n",
       "4      25.000000\n",
       "         ...    \n",
       "743     2.043478\n",
       "744     2.047619\n",
       "745     3.043478\n",
       "746     1.025641\n",
       "747     1.013889\n",
       "Name: Danotiopn_Score, Length: 748, dtype: float64"
      ]
     },
     "execution_count": 42,
     "metadata": {},
     "output_type": "execute_result"
    }
   ],
   "source": [
    "df[\"Danotiopn_Score\"] = (1 / df.Recency) + df.Frequency\n",
    "df[\"Danotiopn_Score\"]"
   ]
  },
  {
   "cell_type": "code",
   "execution_count": 43,
   "id": "f5298da2",
   "metadata": {},
   "outputs": [
    {
     "data": {
      "text/plain": [
       "0      50.500000\n",
       "1      13.000000\n",
       "2      17.000000\n",
       "3      20.500000\n",
       "4      25.000000\n",
       "         ...    \n",
       "743     2.043478\n",
       "744     2.047619\n",
       "745     3.043478\n",
       "746     1.025641\n",
       "747     1.013889\n",
       "Name: Danotiopn_Score_1, Length: 748, dtype: float64"
      ]
     },
     "execution_count": 43,
     "metadata": {},
     "output_type": "execute_result"
    }
   ],
   "source": [
    "df[\"Danotiopn_Score_1\"] = np.where(df[\"Recency\"] == 0, df.Frequency, (1 / df.Recency) + df.Frequency )\n",
    "df[\"Danotiopn_Score_1\"]"
   ]
  },
  {
   "cell_type": "code",
   "execution_count": 44,
   "id": "309b2351",
   "metadata": {},
   "outputs": [
    {
     "data": {
      "text/html": [
       "<div>\n",
       "<style scoped>\n",
       "    .dataframe tbody tr th:only-of-type {\n",
       "        vertical-align: middle;\n",
       "    }\n",
       "\n",
       "    .dataframe tbody tr th {\n",
       "        vertical-align: top;\n",
       "    }\n",
       "\n",
       "    .dataframe thead th {\n",
       "        text-align: right;\n",
       "    }\n",
       "</style>\n",
       "<table border=\"1\" class=\"dataframe\">\n",
       "  <thead>\n",
       "    <tr style=\"text-align: right;\">\n",
       "      <th></th>\n",
       "      <th>Recency</th>\n",
       "      <th>Frequency</th>\n",
       "      <th>Monetary</th>\n",
       "      <th>Time</th>\n",
       "      <th>Target</th>\n",
       "      <th>Donation_Period</th>\n",
       "      <th>Danotiopn_Score</th>\n",
       "      <th>Danotiopn_Score_1</th>\n",
       "    </tr>\n",
       "  </thead>\n",
       "  <tbody>\n",
       "    <tr>\n",
       "      <th>0</th>\n",
       "      <td>2</td>\n",
       "      <td>50</td>\n",
       "      <td>12500</td>\n",
       "      <td>98</td>\n",
       "      <td>1</td>\n",
       "      <td>96</td>\n",
       "      <td>50.5</td>\n",
       "      <td>50.5</td>\n",
       "    </tr>\n",
       "    <tr>\n",
       "      <th>1</th>\n",
       "      <td>0</td>\n",
       "      <td>13</td>\n",
       "      <td>3250</td>\n",
       "      <td>28</td>\n",
       "      <td>1</td>\n",
       "      <td>28</td>\n",
       "      <td>inf</td>\n",
       "      <td>13.0</td>\n",
       "    </tr>\n",
       "    <tr>\n",
       "      <th>2</th>\n",
       "      <td>1</td>\n",
       "      <td>16</td>\n",
       "      <td>4000</td>\n",
       "      <td>35</td>\n",
       "      <td>1</td>\n",
       "      <td>34</td>\n",
       "      <td>17.0</td>\n",
       "      <td>17.0</td>\n",
       "    </tr>\n",
       "    <tr>\n",
       "      <th>3</th>\n",
       "      <td>2</td>\n",
       "      <td>20</td>\n",
       "      <td>5000</td>\n",
       "      <td>45</td>\n",
       "      <td>1</td>\n",
       "      <td>43</td>\n",
       "      <td>20.5</td>\n",
       "      <td>20.5</td>\n",
       "    </tr>\n",
       "    <tr>\n",
       "      <th>4</th>\n",
       "      <td>1</td>\n",
       "      <td>24</td>\n",
       "      <td>6000</td>\n",
       "      <td>77</td>\n",
       "      <td>0</td>\n",
       "      <td>76</td>\n",
       "      <td>25.0</td>\n",
       "      <td>25.0</td>\n",
       "    </tr>\n",
       "  </tbody>\n",
       "</table>\n",
       "</div>"
      ],
      "text/plain": [
       "   Recency  Frequency  Monetary  Time  Target  Donation_Period  \\\n",
       "0        2         50     12500    98       1               96   \n",
       "1        0         13      3250    28       1               28   \n",
       "2        1         16      4000    35       1               34   \n",
       "3        2         20      5000    45       1               43   \n",
       "4        1         24      6000    77       0               76   \n",
       "\n",
       "   Danotiopn_Score  Danotiopn_Score_1  \n",
       "0             50.5               50.5  \n",
       "1              inf               13.0  \n",
       "2             17.0               17.0  \n",
       "3             20.5               20.5  \n",
       "4             25.0               25.0  "
      ]
     },
     "execution_count": 44,
     "metadata": {},
     "output_type": "execute_result"
    }
   ],
   "source": [
    "df.head()"
   ]
  },
  {
   "cell_type": "markdown",
   "id": "be241240",
   "metadata": {},
   "source": [
    "## Convert Time to Years and Months (Time Series Transformation)"
   ]
  },
  {
   "cell_type": "code",
   "execution_count": 45,
   "id": "40c22a09",
   "metadata": {},
   "outputs": [
    {
     "data": {
      "text/plain": [
       "0      8\n",
       "1      2\n",
       "2      2\n",
       "3      3\n",
       "4      6\n",
       "      ..\n",
       "743    3\n",
       "744    4\n",
       "745    5\n",
       "746    3\n",
       "747    6\n",
       "Name: Time, Length: 748, dtype: int64"
      ]
     },
     "execution_count": 45,
     "metadata": {},
     "output_type": "execute_result"
    }
   ],
   "source": [
    " df.Time // 12"
   ]
  },
  {
   "cell_type": "code",
   "execution_count": 46,
   "id": "3d6bb379",
   "metadata": {
    "ExecuteTime": {
     "end_time": "2023-09-18T20:06:51.784168Z",
     "start_time": "2023-09-18T20:06:51.756659Z"
    }
   },
   "outputs": [
    {
     "data": {
      "text/plain": [
       "0      8\n",
       "1      2\n",
       "2      2\n",
       "3      3\n",
       "4      6\n",
       "      ..\n",
       "743    3\n",
       "744    4\n",
       "745    5\n",
       "746    3\n",
       "747    6\n",
       "Name: Years, Length: 748, dtype: int64"
      ]
     },
     "execution_count": 46,
     "metadata": {},
     "output_type": "execute_result"
    }
   ],
   "source": [
    "df[\"Years\"] = df.Time // 12\n",
    "df[\"Years\"]"
   ]
  },
  {
   "cell_type": "code",
   "execution_count": 47,
   "id": "32a05e72",
   "metadata": {},
   "outputs": [
    {
     "data": {
      "text/plain": [
       "0       2\n",
       "1       4\n",
       "2      11\n",
       "3       9\n",
       "4       5\n",
       "       ..\n",
       "743     2\n",
       "744     4\n",
       "745     2\n",
       "746     3\n",
       "747     0\n",
       "Name: Time, Length: 748, dtype: int64"
      ]
     },
     "execution_count": 47,
     "metadata": {},
     "output_type": "execute_result"
    }
   ],
   "source": [
    "df.Time % 12"
   ]
  },
  {
   "cell_type": "code",
   "execution_count": 48,
   "id": "31edccc5",
   "metadata": {},
   "outputs": [
    {
     "data": {
      "text/plain": [
       "0       2\n",
       "1       4\n",
       "2      11\n",
       "3       9\n",
       "4       5\n",
       "       ..\n",
       "743     2\n",
       "744     4\n",
       "745     2\n",
       "746     3\n",
       "747     0\n",
       "Name: Months, Length: 748, dtype: int64"
      ]
     },
     "execution_count": 48,
     "metadata": {},
     "output_type": "execute_result"
    }
   ],
   "source": [
    "df[\"Months\"] = df.Time % 12\n",
    "df[\"Months\"]"
   ]
  },
  {
   "cell_type": "code",
   "execution_count": 49,
   "id": "7b9036e4",
   "metadata": {},
   "outputs": [
    {
     "data": {
      "text/html": [
       "<div>\n",
       "<style scoped>\n",
       "    .dataframe tbody tr th:only-of-type {\n",
       "        vertical-align: middle;\n",
       "    }\n",
       "\n",
       "    .dataframe tbody tr th {\n",
       "        vertical-align: top;\n",
       "    }\n",
       "\n",
       "    .dataframe thead th {\n",
       "        text-align: right;\n",
       "    }\n",
       "</style>\n",
       "<table border=\"1\" class=\"dataframe\">\n",
       "  <thead>\n",
       "    <tr style=\"text-align: right;\">\n",
       "      <th></th>\n",
       "      <th>Recency</th>\n",
       "      <th>Frequency</th>\n",
       "      <th>Monetary</th>\n",
       "      <th>Time</th>\n",
       "      <th>Target</th>\n",
       "      <th>Donation_Period</th>\n",
       "      <th>Danotiopn_Score</th>\n",
       "      <th>Danotiopn_Score_1</th>\n",
       "      <th>Years</th>\n",
       "      <th>Months</th>\n",
       "    </tr>\n",
       "  </thead>\n",
       "  <tbody>\n",
       "    <tr>\n",
       "      <th>0</th>\n",
       "      <td>2</td>\n",
       "      <td>50</td>\n",
       "      <td>12500</td>\n",
       "      <td>98</td>\n",
       "      <td>1</td>\n",
       "      <td>96</td>\n",
       "      <td>50.5</td>\n",
       "      <td>50.5</td>\n",
       "      <td>8</td>\n",
       "      <td>2</td>\n",
       "    </tr>\n",
       "    <tr>\n",
       "      <th>1</th>\n",
       "      <td>0</td>\n",
       "      <td>13</td>\n",
       "      <td>3250</td>\n",
       "      <td>28</td>\n",
       "      <td>1</td>\n",
       "      <td>28</td>\n",
       "      <td>inf</td>\n",
       "      <td>13.0</td>\n",
       "      <td>2</td>\n",
       "      <td>4</td>\n",
       "    </tr>\n",
       "    <tr>\n",
       "      <th>2</th>\n",
       "      <td>1</td>\n",
       "      <td>16</td>\n",
       "      <td>4000</td>\n",
       "      <td>35</td>\n",
       "      <td>1</td>\n",
       "      <td>34</td>\n",
       "      <td>17.0</td>\n",
       "      <td>17.0</td>\n",
       "      <td>2</td>\n",
       "      <td>11</td>\n",
       "    </tr>\n",
       "    <tr>\n",
       "      <th>3</th>\n",
       "      <td>2</td>\n",
       "      <td>20</td>\n",
       "      <td>5000</td>\n",
       "      <td>45</td>\n",
       "      <td>1</td>\n",
       "      <td>43</td>\n",
       "      <td>20.5</td>\n",
       "      <td>20.5</td>\n",
       "      <td>3</td>\n",
       "      <td>9</td>\n",
       "    </tr>\n",
       "    <tr>\n",
       "      <th>4</th>\n",
       "      <td>1</td>\n",
       "      <td>24</td>\n",
       "      <td>6000</td>\n",
       "      <td>77</td>\n",
       "      <td>0</td>\n",
       "      <td>76</td>\n",
       "      <td>25.0</td>\n",
       "      <td>25.0</td>\n",
       "      <td>6</td>\n",
       "      <td>5</td>\n",
       "    </tr>\n",
       "  </tbody>\n",
       "</table>\n",
       "</div>"
      ],
      "text/plain": [
       "   Recency  Frequency  Monetary  Time  Target  Donation_Period  \\\n",
       "0        2         50     12500    98       1               96   \n",
       "1        0         13      3250    28       1               28   \n",
       "2        1         16      4000    35       1               34   \n",
       "3        2         20      5000    45       1               43   \n",
       "4        1         24      6000    77       0               76   \n",
       "\n",
       "   Danotiopn_Score  Danotiopn_Score_1  Years  Months  \n",
       "0             50.5               50.5      8       2  \n",
       "1              inf               13.0      2       4  \n",
       "2             17.0               17.0      2      11  \n",
       "3             20.5               20.5      3       9  \n",
       "4             25.0               25.0      6       5  "
      ]
     },
     "execution_count": 49,
     "metadata": {},
     "output_type": "execute_result"
    }
   ],
   "source": [
    "df.head()"
   ]
  },
  {
   "cell_type": "markdown",
   "id": "2b99d330",
   "metadata": {},
   "source": [
    "## Calculate the correlation of 'Target' with other features (Correlation Analysis)"
   ]
  },
  {
   "cell_type": "code",
   "execution_count": 50,
   "id": "06b6e36d",
   "metadata": {
    "ExecuteTime": {
     "end_time": "2023-09-18T20:10:29.530525Z",
     "start_time": "2023-09-18T20:10:29.517963Z"
    }
   },
   "outputs": [
    {
     "data": {
      "text/plain": [
       "Recency             -0.279869\n",
       "Frequency            0.218633\n",
       "Monetary             0.218633\n",
       "Time                -0.035854\n",
       "Target               1.000000\n",
       "Donation_Period      0.056986\n",
       "Danotiopn_Score      0.216745\n",
       "Danotiopn_Score_1    0.225380\n",
       "Years               -0.032680\n",
       "Months              -0.021089\n",
       "Name: Target, dtype: float64"
      ]
     },
     "execution_count": 50,
     "metadata": {},
     "output_type": "execute_result"
    }
   ],
   "source": [
    "df.corr()[\"Target\"]"
   ]
  },
  {
   "cell_type": "code",
   "execution_count": 51,
   "id": "a3b06bf6",
   "metadata": {},
   "outputs": [
    {
     "data": {
      "text/plain": [
       "Target               1.000000\n",
       "Danotiopn_Score_1    0.225380\n",
       "Monetary             0.218633\n",
       "Frequency            0.218633\n",
       "Danotiopn_Score      0.216745\n",
       "Donation_Period      0.056986\n",
       "Months              -0.021089\n",
       "Years               -0.032680\n",
       "Time                -0.035854\n",
       "Recency             -0.279869\n",
       "Name: Target, dtype: float64"
      ]
     },
     "execution_count": 51,
     "metadata": {},
     "output_type": "execute_result"
    }
   ],
   "source": [
    "df.corr()[\"Target\"].sort_values(ascending = False)"
   ]
  },
  {
   "cell_type": "code",
   "execution_count": 52,
   "id": "374f3260",
   "metadata": {},
   "outputs": [
    {
     "data": {
      "text/html": [
       "<div>\n",
       "<style scoped>\n",
       "    .dataframe tbody tr th:only-of-type {\n",
       "        vertical-align: middle;\n",
       "    }\n",
       "\n",
       "    .dataframe tbody tr th {\n",
       "        vertical-align: top;\n",
       "    }\n",
       "\n",
       "    .dataframe thead th {\n",
       "        text-align: right;\n",
       "    }\n",
       "</style>\n",
       "<table border=\"1\" class=\"dataframe\">\n",
       "  <thead>\n",
       "    <tr style=\"text-align: right;\">\n",
       "      <th></th>\n",
       "      <th>Recency</th>\n",
       "      <th>Frequency</th>\n",
       "      <th>Monetary</th>\n",
       "      <th>Time</th>\n",
       "      <th>Target</th>\n",
       "      <th>Donation_Period</th>\n",
       "      <th>Danotiopn_Score</th>\n",
       "      <th>Danotiopn_Score_1</th>\n",
       "      <th>Years</th>\n",
       "      <th>Months</th>\n",
       "    </tr>\n",
       "  </thead>\n",
       "  <tbody>\n",
       "    <tr>\n",
       "      <th>0</th>\n",
       "      <td>2</td>\n",
       "      <td>50</td>\n",
       "      <td>12500</td>\n",
       "      <td>98</td>\n",
       "      <td>1</td>\n",
       "      <td>96</td>\n",
       "      <td>50.5</td>\n",
       "      <td>50.5</td>\n",
       "      <td>8</td>\n",
       "      <td>2</td>\n",
       "    </tr>\n",
       "    <tr>\n",
       "      <th>1</th>\n",
       "      <td>0</td>\n",
       "      <td>13</td>\n",
       "      <td>3250</td>\n",
       "      <td>28</td>\n",
       "      <td>1</td>\n",
       "      <td>28</td>\n",
       "      <td>inf</td>\n",
       "      <td>13.0</td>\n",
       "      <td>2</td>\n",
       "      <td>4</td>\n",
       "    </tr>\n",
       "    <tr>\n",
       "      <th>2</th>\n",
       "      <td>1</td>\n",
       "      <td>16</td>\n",
       "      <td>4000</td>\n",
       "      <td>35</td>\n",
       "      <td>1</td>\n",
       "      <td>34</td>\n",
       "      <td>17.0</td>\n",
       "      <td>17.0</td>\n",
       "      <td>2</td>\n",
       "      <td>11</td>\n",
       "    </tr>\n",
       "    <tr>\n",
       "      <th>3</th>\n",
       "      <td>2</td>\n",
       "      <td>20</td>\n",
       "      <td>5000</td>\n",
       "      <td>45</td>\n",
       "      <td>1</td>\n",
       "      <td>43</td>\n",
       "      <td>20.5</td>\n",
       "      <td>20.5</td>\n",
       "      <td>3</td>\n",
       "      <td>9</td>\n",
       "    </tr>\n",
       "    <tr>\n",
       "      <th>4</th>\n",
       "      <td>1</td>\n",
       "      <td>24</td>\n",
       "      <td>6000</td>\n",
       "      <td>77</td>\n",
       "      <td>0</td>\n",
       "      <td>76</td>\n",
       "      <td>25.0</td>\n",
       "      <td>25.0</td>\n",
       "      <td>6</td>\n",
       "      <td>5</td>\n",
       "    </tr>\n",
       "  </tbody>\n",
       "</table>\n",
       "</div>"
      ],
      "text/plain": [
       "   Recency  Frequency  Monetary  Time  Target  Donation_Period  \\\n",
       "0        2         50     12500    98       1               96   \n",
       "1        0         13      3250    28       1               28   \n",
       "2        1         16      4000    35       1               34   \n",
       "3        2         20      5000    45       1               43   \n",
       "4        1         24      6000    77       0               76   \n",
       "\n",
       "   Danotiopn_Score  Danotiopn_Score_1  Years  Months  \n",
       "0             50.5               50.5      8       2  \n",
       "1              inf               13.0      2       4  \n",
       "2             17.0               17.0      2      11  \n",
       "3             20.5               20.5      3       9  \n",
       "4             25.0               25.0      6       5  "
      ]
     },
     "execution_count": 52,
     "metadata": {},
     "output_type": "execute_result"
    }
   ],
   "source": [
    "df.head()"
   ]
  },
  {
   "cell_type": "markdown",
   "id": "c8334abb",
   "metadata": {},
   "source": [
    "## Create donor groups based on 'Frequency' (Grouping and Aggregation)"
   ]
  },
  {
   "cell_type": "code",
   "execution_count": 53,
   "id": "13b4b3e2",
   "metadata": {},
   "outputs": [
    {
     "data": {
      "text/html": [
       "<div>\n",
       "<style scoped>\n",
       "    .dataframe tbody tr th:only-of-type {\n",
       "        vertical-align: middle;\n",
       "    }\n",
       "\n",
       "    .dataframe tbody tr th {\n",
       "        vertical-align: top;\n",
       "    }\n",
       "\n",
       "    .dataframe thead th {\n",
       "        text-align: right;\n",
       "    }\n",
       "</style>\n",
       "<table border=\"1\" class=\"dataframe\">\n",
       "  <thead>\n",
       "    <tr style=\"text-align: right;\">\n",
       "      <th></th>\n",
       "      <th>count</th>\n",
       "      <th>mean</th>\n",
       "      <th>std</th>\n",
       "      <th>min</th>\n",
       "      <th>25%</th>\n",
       "      <th>50%</th>\n",
       "      <th>75%</th>\n",
       "      <th>max</th>\n",
       "    </tr>\n",
       "  </thead>\n",
       "  <tbody>\n",
       "    <tr>\n",
       "      <th>Recency</th>\n",
       "      <td>748.0</td>\n",
       "      <td>9.506684</td>\n",
       "      <td>8.095396</td>\n",
       "      <td>0.000000</td>\n",
       "      <td>2.750000</td>\n",
       "      <td>7.000000</td>\n",
       "      <td>14.00</td>\n",
       "      <td>74.0</td>\n",
       "    </tr>\n",
       "    <tr>\n",
       "      <th>Frequency</th>\n",
       "      <td>748.0</td>\n",
       "      <td>5.514706</td>\n",
       "      <td>5.839307</td>\n",
       "      <td>1.000000</td>\n",
       "      <td>2.000000</td>\n",
       "      <td>4.000000</td>\n",
       "      <td>7.00</td>\n",
       "      <td>50.0</td>\n",
       "    </tr>\n",
       "    <tr>\n",
       "      <th>Monetary</th>\n",
       "      <td>748.0</td>\n",
       "      <td>1378.676471</td>\n",
       "      <td>1459.826781</td>\n",
       "      <td>250.000000</td>\n",
       "      <td>500.000000</td>\n",
       "      <td>1000.000000</td>\n",
       "      <td>1750.00</td>\n",
       "      <td>12500.0</td>\n",
       "    </tr>\n",
       "    <tr>\n",
       "      <th>Time</th>\n",
       "      <td>748.0</td>\n",
       "      <td>34.282086</td>\n",
       "      <td>24.376714</td>\n",
       "      <td>2.000000</td>\n",
       "      <td>16.000000</td>\n",
       "      <td>28.000000</td>\n",
       "      <td>50.00</td>\n",
       "      <td>98.0</td>\n",
       "    </tr>\n",
       "    <tr>\n",
       "      <th>Target</th>\n",
       "      <td>748.0</td>\n",
       "      <td>0.237968</td>\n",
       "      <td>0.426124</td>\n",
       "      <td>0.000000</td>\n",
       "      <td>0.000000</td>\n",
       "      <td>0.000000</td>\n",
       "      <td>0.00</td>\n",
       "      <td>1.0</td>\n",
       "    </tr>\n",
       "    <tr>\n",
       "      <th>Donation_Period</th>\n",
       "      <td>748.0</td>\n",
       "      <td>24.775401</td>\n",
       "      <td>24.420630</td>\n",
       "      <td>0.000000</td>\n",
       "      <td>0.000000</td>\n",
       "      <td>19.000000</td>\n",
       "      <td>41.00</td>\n",
       "      <td>96.0</td>\n",
       "    </tr>\n",
       "    <tr>\n",
       "      <th>Danotiopn_Score</th>\n",
       "      <td>748.0</td>\n",
       "      <td>inf</td>\n",
       "      <td>NaN</td>\n",
       "      <td>1.013514</td>\n",
       "      <td>2.071429</td>\n",
       "      <td>4.071429</td>\n",
       "      <td>7.25</td>\n",
       "      <td>inf</td>\n",
       "    </tr>\n",
       "    <tr>\n",
       "      <th>Danotiopn_Score_1</th>\n",
       "      <td>748.0</td>\n",
       "      <td>5.739404</td>\n",
       "      <td>5.875640</td>\n",
       "      <td>1.013514</td>\n",
       "      <td>2.071429</td>\n",
       "      <td>4.071429</td>\n",
       "      <td>7.25</td>\n",
       "      <td>50.5</td>\n",
       "    </tr>\n",
       "    <tr>\n",
       "      <th>Years</th>\n",
       "      <td>748.0</td>\n",
       "      <td>2.394385</td>\n",
       "      <td>2.038011</td>\n",
       "      <td>0.000000</td>\n",
       "      <td>1.000000</td>\n",
       "      <td>2.000000</td>\n",
       "      <td>4.00</td>\n",
       "      <td>8.0</td>\n",
       "    </tr>\n",
       "    <tr>\n",
       "      <th>Months</th>\n",
       "      <td>748.0</td>\n",
       "      <td>5.549465</td>\n",
       "      <td>3.546058</td>\n",
       "      <td>0.000000</td>\n",
       "      <td>2.000000</td>\n",
       "      <td>4.000000</td>\n",
       "      <td>9.00</td>\n",
       "      <td>11.0</td>\n",
       "    </tr>\n",
       "  </tbody>\n",
       "</table>\n",
       "</div>"
      ],
      "text/plain": [
       "                   count         mean          std         min         25%  \\\n",
       "Recency            748.0     9.506684     8.095396    0.000000    2.750000   \n",
       "Frequency          748.0     5.514706     5.839307    1.000000    2.000000   \n",
       "Monetary           748.0  1378.676471  1459.826781  250.000000  500.000000   \n",
       "Time               748.0    34.282086    24.376714    2.000000   16.000000   \n",
       "Target             748.0     0.237968     0.426124    0.000000    0.000000   \n",
       "Donation_Period    748.0    24.775401    24.420630    0.000000    0.000000   \n",
       "Danotiopn_Score    748.0          inf          NaN    1.013514    2.071429   \n",
       "Danotiopn_Score_1  748.0     5.739404     5.875640    1.013514    2.071429   \n",
       "Years              748.0     2.394385     2.038011    0.000000    1.000000   \n",
       "Months             748.0     5.549465     3.546058    0.000000    2.000000   \n",
       "\n",
       "                           50%      75%      max  \n",
       "Recency               7.000000    14.00     74.0  \n",
       "Frequency             4.000000     7.00     50.0  \n",
       "Monetary           1000.000000  1750.00  12500.0  \n",
       "Time                 28.000000    50.00     98.0  \n",
       "Target                0.000000     0.00      1.0  \n",
       "Donation_Period      19.000000    41.00     96.0  \n",
       "Danotiopn_Score       4.071429     7.25      inf  \n",
       "Danotiopn_Score_1     4.071429     7.25     50.5  \n",
       "Years                 2.000000     4.00      8.0  \n",
       "Months                4.000000     9.00     11.0  "
      ]
     },
     "execution_count": 53,
     "metadata": {},
     "output_type": "execute_result"
    }
   ],
   "source": [
    "df.describe().T"
   ]
  },
  {
   "cell_type": "code",
   "execution_count": 54,
   "id": "118ba57c",
   "metadata": {
    "ExecuteTime": {
     "end_time": "2023-09-18T20:22:55.836436Z",
     "start_time": "2023-09-18T20:22:55.816924Z"
    }
   },
   "outputs": [
    {
     "data": {
      "text/plain": [
       "0        High\n",
       "1      Medium\n",
       "2        High\n",
       "3        High\n",
       "4        High\n",
       "        ...  \n",
       "743       Low\n",
       "744       Low\n",
       "745       Low\n",
       "746       Low\n",
       "747       Low\n",
       "Name: Frequency_Group, Length: 748, dtype: category\n",
       "Categories (3, object): ['Low' < 'Medium' < 'High']"
      ]
     },
     "execution_count": 54,
     "metadata": {},
     "output_type": "execute_result"
    }
   ],
   "source": [
    "bins = [0, 4, 14, 50 ]\n",
    "\n",
    "group_names = [\"Low\", \"Medium\", \"High\"]\n",
    "\n",
    "\n",
    "df[\"Frequency_Group\"] = pd.cut(df.Frequency, bins, labels= group_names)\n",
    "\n",
    "\n",
    "df[\"Frequency_Group\"]"
   ]
  },
  {
   "cell_type": "code",
   "execution_count": 55,
   "id": "ea3062a1",
   "metadata": {},
   "outputs": [
    {
     "data": {
      "text/html": [
       "<div>\n",
       "<style scoped>\n",
       "    .dataframe tbody tr th:only-of-type {\n",
       "        vertical-align: middle;\n",
       "    }\n",
       "\n",
       "    .dataframe tbody tr th {\n",
       "        vertical-align: top;\n",
       "    }\n",
       "\n",
       "    .dataframe thead th {\n",
       "        text-align: right;\n",
       "    }\n",
       "</style>\n",
       "<table border=\"1\" class=\"dataframe\">\n",
       "  <thead>\n",
       "    <tr style=\"text-align: right;\">\n",
       "      <th></th>\n",
       "      <th>Recency</th>\n",
       "      <th>Frequency</th>\n",
       "      <th>Monetary</th>\n",
       "      <th>Time</th>\n",
       "      <th>Target</th>\n",
       "      <th>Donation_Period</th>\n",
       "      <th>Danotiopn_Score</th>\n",
       "      <th>Danotiopn_Score_1</th>\n",
       "      <th>Years</th>\n",
       "      <th>Months</th>\n",
       "      <th>Frequency_Group</th>\n",
       "    </tr>\n",
       "  </thead>\n",
       "  <tbody>\n",
       "    <tr>\n",
       "      <th>374</th>\n",
       "      <td>14</td>\n",
       "      <td>4</td>\n",
       "      <td>1000</td>\n",
       "      <td>40</td>\n",
       "      <td>0</td>\n",
       "      <td>26</td>\n",
       "      <td>4.071429</td>\n",
       "      <td>4.071429</td>\n",
       "      <td>3</td>\n",
       "      <td>4</td>\n",
       "      <td>Low</td>\n",
       "    </tr>\n",
       "    <tr>\n",
       "      <th>145</th>\n",
       "      <td>4</td>\n",
       "      <td>3</td>\n",
       "      <td>750</td>\n",
       "      <td>16</td>\n",
       "      <td>1</td>\n",
       "      <td>12</td>\n",
       "      <td>3.250000</td>\n",
       "      <td>3.250000</td>\n",
       "      <td>1</td>\n",
       "      <td>4</td>\n",
       "      <td>Low</td>\n",
       "    </tr>\n",
       "    <tr>\n",
       "      <th>554</th>\n",
       "      <td>2</td>\n",
       "      <td>4</td>\n",
       "      <td>1000</td>\n",
       "      <td>23</td>\n",
       "      <td>0</td>\n",
       "      <td>21</td>\n",
       "      <td>4.500000</td>\n",
       "      <td>4.500000</td>\n",
       "      <td>1</td>\n",
       "      <td>11</td>\n",
       "      <td>Low</td>\n",
       "    </tr>\n",
       "    <tr>\n",
       "      <th>106</th>\n",
       "      <td>0</td>\n",
       "      <td>8</td>\n",
       "      <td>2000</td>\n",
       "      <td>59</td>\n",
       "      <td>0</td>\n",
       "      <td>59</td>\n",
       "      <td>inf</td>\n",
       "      <td>8.000000</td>\n",
       "      <td>4</td>\n",
       "      <td>11</td>\n",
       "      <td>Medium</td>\n",
       "    </tr>\n",
       "    <tr>\n",
       "      <th>438</th>\n",
       "      <td>23</td>\n",
       "      <td>14</td>\n",
       "      <td>3500</td>\n",
       "      <td>93</td>\n",
       "      <td>0</td>\n",
       "      <td>70</td>\n",
       "      <td>14.043478</td>\n",
       "      <td>14.043478</td>\n",
       "      <td>7</td>\n",
       "      <td>9</td>\n",
       "      <td>Medium</td>\n",
       "    </tr>\n",
       "    <tr>\n",
       "      <th>538</th>\n",
       "      <td>2</td>\n",
       "      <td>8</td>\n",
       "      <td>2000</td>\n",
       "      <td>38</td>\n",
       "      <td>1</td>\n",
       "      <td>36</td>\n",
       "      <td>8.500000</td>\n",
       "      <td>8.500000</td>\n",
       "      <td>3</td>\n",
       "      <td>2</td>\n",
       "      <td>Medium</td>\n",
       "    </tr>\n",
       "    <tr>\n",
       "      <th>36</th>\n",
       "      <td>2</td>\n",
       "      <td>12</td>\n",
       "      <td>3000</td>\n",
       "      <td>47</td>\n",
       "      <td>1</td>\n",
       "      <td>45</td>\n",
       "      <td>12.500000</td>\n",
       "      <td>12.500000</td>\n",
       "      <td>3</td>\n",
       "      <td>11</td>\n",
       "      <td>Medium</td>\n",
       "    </tr>\n",
       "    <tr>\n",
       "      <th>210</th>\n",
       "      <td>4</td>\n",
       "      <td>1</td>\n",
       "      <td>250</td>\n",
       "      <td>4</td>\n",
       "      <td>0</td>\n",
       "      <td>0</td>\n",
       "      <td>1.250000</td>\n",
       "      <td>1.250000</td>\n",
       "      <td>0</td>\n",
       "      <td>4</td>\n",
       "      <td>Low</td>\n",
       "    </tr>\n",
       "    <tr>\n",
       "      <th>283</th>\n",
       "      <td>8</td>\n",
       "      <td>2</td>\n",
       "      <td>500</td>\n",
       "      <td>16</td>\n",
       "      <td>0</td>\n",
       "      <td>8</td>\n",
       "      <td>2.125000</td>\n",
       "      <td>2.125000</td>\n",
       "      <td>1</td>\n",
       "      <td>4</td>\n",
       "      <td>Low</td>\n",
       "    </tr>\n",
       "    <tr>\n",
       "      <th>485</th>\n",
       "      <td>23</td>\n",
       "      <td>4</td>\n",
       "      <td>1000</td>\n",
       "      <td>53</td>\n",
       "      <td>0</td>\n",
       "      <td>30</td>\n",
       "      <td>4.043478</td>\n",
       "      <td>4.043478</td>\n",
       "      <td>4</td>\n",
       "      <td>5</td>\n",
       "      <td>Low</td>\n",
       "    </tr>\n",
       "  </tbody>\n",
       "</table>\n",
       "</div>"
      ],
      "text/plain": [
       "     Recency  Frequency  Monetary  Time  Target  Donation_Period  \\\n",
       "374       14          4      1000    40       0               26   \n",
       "145        4          3       750    16       1               12   \n",
       "554        2          4      1000    23       0               21   \n",
       "106        0          8      2000    59       0               59   \n",
       "438       23         14      3500    93       0               70   \n",
       "538        2          8      2000    38       1               36   \n",
       "36         2         12      3000    47       1               45   \n",
       "210        4          1       250     4       0                0   \n",
       "283        8          2       500    16       0                8   \n",
       "485       23          4      1000    53       0               30   \n",
       "\n",
       "     Danotiopn_Score  Danotiopn_Score_1  Years  Months Frequency_Group  \n",
       "374         4.071429           4.071429      3       4             Low  \n",
       "145         3.250000           3.250000      1       4             Low  \n",
       "554         4.500000           4.500000      1      11             Low  \n",
       "106              inf           8.000000      4      11          Medium  \n",
       "438        14.043478          14.043478      7       9          Medium  \n",
       "538         8.500000           8.500000      3       2          Medium  \n",
       "36         12.500000          12.500000      3      11          Medium  \n",
       "210         1.250000           1.250000      0       4             Low  \n",
       "283         2.125000           2.125000      1       4             Low  \n",
       "485         4.043478           4.043478      4       5             Low  "
      ]
     },
     "execution_count": 55,
     "metadata": {},
     "output_type": "execute_result"
    }
   ],
   "source": [
    "df.sample(10)"
   ]
  },
  {
   "cell_type": "markdown",
   "id": "74a95d03",
   "metadata": {},
   "source": [
    "## Create a new categorical variable based on 'Recency'"
   ]
  },
  {
   "cell_type": "code",
   "execution_count": 56,
   "id": "298a39df",
   "metadata": {},
   "outputs": [
    {
     "data": {
      "text/html": [
       "<div>\n",
       "<style scoped>\n",
       "    .dataframe tbody tr th:only-of-type {\n",
       "        vertical-align: middle;\n",
       "    }\n",
       "\n",
       "    .dataframe tbody tr th {\n",
       "        vertical-align: top;\n",
       "    }\n",
       "\n",
       "    .dataframe thead th {\n",
       "        text-align: right;\n",
       "    }\n",
       "</style>\n",
       "<table border=\"1\" class=\"dataframe\">\n",
       "  <thead>\n",
       "    <tr style=\"text-align: right;\">\n",
       "      <th></th>\n",
       "      <th>count</th>\n",
       "      <th>mean</th>\n",
       "      <th>std</th>\n",
       "      <th>min</th>\n",
       "      <th>25%</th>\n",
       "      <th>50%</th>\n",
       "      <th>75%</th>\n",
       "      <th>max</th>\n",
       "    </tr>\n",
       "  </thead>\n",
       "  <tbody>\n",
       "    <tr>\n",
       "      <th>Recency</th>\n",
       "      <td>748.0</td>\n",
       "      <td>9.506684</td>\n",
       "      <td>8.095396</td>\n",
       "      <td>0.000000</td>\n",
       "      <td>2.750000</td>\n",
       "      <td>7.000000</td>\n",
       "      <td>14.00</td>\n",
       "      <td>74.0</td>\n",
       "    </tr>\n",
       "    <tr>\n",
       "      <th>Frequency</th>\n",
       "      <td>748.0</td>\n",
       "      <td>5.514706</td>\n",
       "      <td>5.839307</td>\n",
       "      <td>1.000000</td>\n",
       "      <td>2.000000</td>\n",
       "      <td>4.000000</td>\n",
       "      <td>7.00</td>\n",
       "      <td>50.0</td>\n",
       "    </tr>\n",
       "    <tr>\n",
       "      <th>Monetary</th>\n",
       "      <td>748.0</td>\n",
       "      <td>1378.676471</td>\n",
       "      <td>1459.826781</td>\n",
       "      <td>250.000000</td>\n",
       "      <td>500.000000</td>\n",
       "      <td>1000.000000</td>\n",
       "      <td>1750.00</td>\n",
       "      <td>12500.0</td>\n",
       "    </tr>\n",
       "    <tr>\n",
       "      <th>Time</th>\n",
       "      <td>748.0</td>\n",
       "      <td>34.282086</td>\n",
       "      <td>24.376714</td>\n",
       "      <td>2.000000</td>\n",
       "      <td>16.000000</td>\n",
       "      <td>28.000000</td>\n",
       "      <td>50.00</td>\n",
       "      <td>98.0</td>\n",
       "    </tr>\n",
       "    <tr>\n",
       "      <th>Target</th>\n",
       "      <td>748.0</td>\n",
       "      <td>0.237968</td>\n",
       "      <td>0.426124</td>\n",
       "      <td>0.000000</td>\n",
       "      <td>0.000000</td>\n",
       "      <td>0.000000</td>\n",
       "      <td>0.00</td>\n",
       "      <td>1.0</td>\n",
       "    </tr>\n",
       "    <tr>\n",
       "      <th>Donation_Period</th>\n",
       "      <td>748.0</td>\n",
       "      <td>24.775401</td>\n",
       "      <td>24.420630</td>\n",
       "      <td>0.000000</td>\n",
       "      <td>0.000000</td>\n",
       "      <td>19.000000</td>\n",
       "      <td>41.00</td>\n",
       "      <td>96.0</td>\n",
       "    </tr>\n",
       "    <tr>\n",
       "      <th>Danotiopn_Score</th>\n",
       "      <td>748.0</td>\n",
       "      <td>inf</td>\n",
       "      <td>NaN</td>\n",
       "      <td>1.013514</td>\n",
       "      <td>2.071429</td>\n",
       "      <td>4.071429</td>\n",
       "      <td>7.25</td>\n",
       "      <td>inf</td>\n",
       "    </tr>\n",
       "    <tr>\n",
       "      <th>Danotiopn_Score_1</th>\n",
       "      <td>748.0</td>\n",
       "      <td>5.739404</td>\n",
       "      <td>5.875640</td>\n",
       "      <td>1.013514</td>\n",
       "      <td>2.071429</td>\n",
       "      <td>4.071429</td>\n",
       "      <td>7.25</td>\n",
       "      <td>50.5</td>\n",
       "    </tr>\n",
       "    <tr>\n",
       "      <th>Years</th>\n",
       "      <td>748.0</td>\n",
       "      <td>2.394385</td>\n",
       "      <td>2.038011</td>\n",
       "      <td>0.000000</td>\n",
       "      <td>1.000000</td>\n",
       "      <td>2.000000</td>\n",
       "      <td>4.00</td>\n",
       "      <td>8.0</td>\n",
       "    </tr>\n",
       "    <tr>\n",
       "      <th>Months</th>\n",
       "      <td>748.0</td>\n",
       "      <td>5.549465</td>\n",
       "      <td>3.546058</td>\n",
       "      <td>0.000000</td>\n",
       "      <td>2.000000</td>\n",
       "      <td>4.000000</td>\n",
       "      <td>9.00</td>\n",
       "      <td>11.0</td>\n",
       "    </tr>\n",
       "  </tbody>\n",
       "</table>\n",
       "</div>"
      ],
      "text/plain": [
       "                   count         mean          std         min         25%  \\\n",
       "Recency            748.0     9.506684     8.095396    0.000000    2.750000   \n",
       "Frequency          748.0     5.514706     5.839307    1.000000    2.000000   \n",
       "Monetary           748.0  1378.676471  1459.826781  250.000000  500.000000   \n",
       "Time               748.0    34.282086    24.376714    2.000000   16.000000   \n",
       "Target             748.0     0.237968     0.426124    0.000000    0.000000   \n",
       "Donation_Period    748.0    24.775401    24.420630    0.000000    0.000000   \n",
       "Danotiopn_Score    748.0          inf          NaN    1.013514    2.071429   \n",
       "Danotiopn_Score_1  748.0     5.739404     5.875640    1.013514    2.071429   \n",
       "Years              748.0     2.394385     2.038011    0.000000    1.000000   \n",
       "Months             748.0     5.549465     3.546058    0.000000    2.000000   \n",
       "\n",
       "                           50%      75%      max  \n",
       "Recency               7.000000    14.00     74.0  \n",
       "Frequency             4.000000     7.00     50.0  \n",
       "Monetary           1000.000000  1750.00  12500.0  \n",
       "Time                 28.000000    50.00     98.0  \n",
       "Target                0.000000     0.00      1.0  \n",
       "Donation_Period      19.000000    41.00     96.0  \n",
       "Danotiopn_Score       4.071429     7.25      inf  \n",
       "Danotiopn_Score_1     4.071429     7.25     50.5  \n",
       "Years                 2.000000     4.00      8.0  \n",
       "Months                4.000000     9.00     11.0  "
      ]
     },
     "execution_count": 56,
     "metadata": {},
     "output_type": "execute_result"
    }
   ],
   "source": [
    "df.describe().T"
   ]
  },
  {
   "cell_type": "code",
   "execution_count": 57,
   "id": "1593f2ea",
   "metadata": {
    "ExecuteTime": {
     "end_time": "2023-09-18T20:27:11.415075Z",
     "start_time": "2023-09-18T20:27:11.381578Z"
    }
   },
   "outputs": [
    {
     "data": {
      "text/plain": [
       "0       0-12 Months\n",
       "1       0-12 Months\n",
       "2       0-12 Months\n",
       "3       0-12 Months\n",
       "4       0-12 Months\n",
       "           ...     \n",
       "743    13-24 Months\n",
       "744    13-24 Months\n",
       "745    13-24 Months\n",
       "746    37-74 Months\n",
       "747    37-74 Months\n",
       "Name: Recency_Group, Length: 748, dtype: category\n",
       "Categories (4, object): ['0-12 Months' < '13-24 Months' < '25-36 Months' < '37-74 Months']"
      ]
     },
     "execution_count": 57,
     "metadata": {},
     "output_type": "execute_result"
    }
   ],
   "source": [
    "bins = [-1, 12, 24, 36, 75 ]\n",
    "\n",
    "group_names = [\"0-12 Months\", \"13-24 Months\", \"25-36 Months\", \"37-74 Months\"]\n",
    "\n",
    "\n",
    "df[\"Recency_Group\"] = pd.cut(df.Recency, bins, labels= group_names)\n",
    "\n",
    "\n",
    "df[\"Recency_Group\"]"
   ]
  },
  {
   "cell_type": "code",
   "execution_count": 58,
   "id": "a1559843",
   "metadata": {},
   "outputs": [
    {
     "data": {
      "text/html": [
       "<div>\n",
       "<style scoped>\n",
       "    .dataframe tbody tr th:only-of-type {\n",
       "        vertical-align: middle;\n",
       "    }\n",
       "\n",
       "    .dataframe tbody tr th {\n",
       "        vertical-align: top;\n",
       "    }\n",
       "\n",
       "    .dataframe thead th {\n",
       "        text-align: right;\n",
       "    }\n",
       "</style>\n",
       "<table border=\"1\" class=\"dataframe\">\n",
       "  <thead>\n",
       "    <tr style=\"text-align: right;\">\n",
       "      <th></th>\n",
       "      <th>Recency</th>\n",
       "      <th>Frequency</th>\n",
       "      <th>Monetary</th>\n",
       "      <th>Time</th>\n",
       "      <th>Target</th>\n",
       "      <th>Donation_Period</th>\n",
       "      <th>Danotiopn_Score</th>\n",
       "      <th>Danotiopn_Score_1</th>\n",
       "      <th>Years</th>\n",
       "      <th>Months</th>\n",
       "      <th>Frequency_Group</th>\n",
       "      <th>Recency_Group</th>\n",
       "    </tr>\n",
       "  </thead>\n",
       "  <tbody>\n",
       "    <tr>\n",
       "      <th>0</th>\n",
       "      <td>2</td>\n",
       "      <td>50</td>\n",
       "      <td>12500</td>\n",
       "      <td>98</td>\n",
       "      <td>1</td>\n",
       "      <td>96</td>\n",
       "      <td>50.5</td>\n",
       "      <td>50.5</td>\n",
       "      <td>8</td>\n",
       "      <td>2</td>\n",
       "      <td>High</td>\n",
       "      <td>0-12 Months</td>\n",
       "    </tr>\n",
       "    <tr>\n",
       "      <th>1</th>\n",
       "      <td>0</td>\n",
       "      <td>13</td>\n",
       "      <td>3250</td>\n",
       "      <td>28</td>\n",
       "      <td>1</td>\n",
       "      <td>28</td>\n",
       "      <td>inf</td>\n",
       "      <td>13.0</td>\n",
       "      <td>2</td>\n",
       "      <td>4</td>\n",
       "      <td>Medium</td>\n",
       "      <td>0-12 Months</td>\n",
       "    </tr>\n",
       "    <tr>\n",
       "      <th>2</th>\n",
       "      <td>1</td>\n",
       "      <td>16</td>\n",
       "      <td>4000</td>\n",
       "      <td>35</td>\n",
       "      <td>1</td>\n",
       "      <td>34</td>\n",
       "      <td>17.0</td>\n",
       "      <td>17.0</td>\n",
       "      <td>2</td>\n",
       "      <td>11</td>\n",
       "      <td>High</td>\n",
       "      <td>0-12 Months</td>\n",
       "    </tr>\n",
       "    <tr>\n",
       "      <th>3</th>\n",
       "      <td>2</td>\n",
       "      <td>20</td>\n",
       "      <td>5000</td>\n",
       "      <td>45</td>\n",
       "      <td>1</td>\n",
       "      <td>43</td>\n",
       "      <td>20.5</td>\n",
       "      <td>20.5</td>\n",
       "      <td>3</td>\n",
       "      <td>9</td>\n",
       "      <td>High</td>\n",
       "      <td>0-12 Months</td>\n",
       "    </tr>\n",
       "    <tr>\n",
       "      <th>4</th>\n",
       "      <td>1</td>\n",
       "      <td>24</td>\n",
       "      <td>6000</td>\n",
       "      <td>77</td>\n",
       "      <td>0</td>\n",
       "      <td>76</td>\n",
       "      <td>25.0</td>\n",
       "      <td>25.0</td>\n",
       "      <td>6</td>\n",
       "      <td>5</td>\n",
       "      <td>High</td>\n",
       "      <td>0-12 Months</td>\n",
       "    </tr>\n",
       "  </tbody>\n",
       "</table>\n",
       "</div>"
      ],
      "text/plain": [
       "   Recency  Frequency  Monetary  Time  Target  Donation_Period  \\\n",
       "0        2         50     12500    98       1               96   \n",
       "1        0         13      3250    28       1               28   \n",
       "2        1         16      4000    35       1               34   \n",
       "3        2         20      5000    45       1               43   \n",
       "4        1         24      6000    77       0               76   \n",
       "\n",
       "   Danotiopn_Score  Danotiopn_Score_1  Years  Months Frequency_Group  \\\n",
       "0             50.5               50.5      8       2            High   \n",
       "1              inf               13.0      2       4          Medium   \n",
       "2             17.0               17.0      2      11            High   \n",
       "3             20.5               20.5      3       9            High   \n",
       "4             25.0               25.0      6       5            High   \n",
       "\n",
       "  Recency_Group  \n",
       "0   0-12 Months  \n",
       "1   0-12 Months  \n",
       "2   0-12 Months  \n",
       "3   0-12 Months  \n",
       "4   0-12 Months  "
      ]
     },
     "execution_count": 58,
     "metadata": {},
     "output_type": "execute_result"
    }
   ],
   "source": [
    "df.head()"
   ]
  },
  {
   "cell_type": "markdown",
   "id": "6f5c394f",
   "metadata": {},
   "source": [
    "## Check the distribution of the 'Target' variable"
   ]
  },
  {
   "cell_type": "code",
   "execution_count": 59,
   "id": "0b0b268f",
   "metadata": {
    "ExecuteTime": {
     "end_time": "2023-09-18T20:29:46.262146Z",
     "start_time": "2023-09-18T20:29:46.249153Z"
    }
   },
   "outputs": [
    {
     "data": {
      "text/plain": [
       "Target\n",
       "0    0.762032\n",
       "1    0.237968\n",
       "Name: proportion, dtype: float64"
      ]
     },
     "execution_count": 59,
     "metadata": {},
     "output_type": "execute_result"
    }
   ],
   "source": [
    "df.Target.value_counts(normalize=True)"
   ]
  },
  {
   "cell_type": "code",
   "execution_count": 60,
   "id": "0fbb887b",
   "metadata": {},
   "outputs": [
    {
     "data": {
      "text/plain": [
       "Frequency_Group\n",
       "Low       419\n",
       "Medium    284\n",
       "High       45\n",
       "Name: count, dtype: int64"
      ]
     },
     "execution_count": 60,
     "metadata": {},
     "output_type": "execute_result"
    }
   ],
   "source": [
    "df.Frequency_Group.value_counts()"
   ]
  },
  {
   "cell_type": "code",
   "execution_count": 61,
   "id": "70d45318",
   "metadata": {},
   "outputs": [
    {
     "data": {
      "text/plain": [
       "Frequency_Group\n",
       "Low       0.560160\n",
       "Medium    0.379679\n",
       "High      0.060160\n",
       "Name: proportion, dtype: float64"
      ]
     },
     "execution_count": 61,
     "metadata": {},
     "output_type": "execute_result"
    }
   ],
   "source": [
    "df.Frequency_Group.value_counts(normalize=True)"
   ]
  },
  {
   "cell_type": "code",
   "execution_count": 62,
   "id": "95f4252c",
   "metadata": {},
   "outputs": [
    {
     "data": {
      "text/plain": [
       "['High', 'Medium', 'Low']\n",
       "Categories (3, object): ['Low' < 'Medium' < 'High']"
      ]
     },
     "execution_count": 62,
     "metadata": {},
     "output_type": "execute_result"
    }
   ],
   "source": [
    "df.Frequency_Group.unique()"
   ]
  },
  {
   "cell_type": "code",
   "execution_count": 63,
   "id": "40884c8f",
   "metadata": {},
   "outputs": [
    {
     "data": {
      "text/plain": [
       "3"
      ]
     },
     "execution_count": 63,
     "metadata": {},
     "output_type": "execute_result"
    }
   ],
   "source": [
    "df.Frequency_Group.nunique()"
   ]
  },
  {
   "cell_type": "markdown",
   "id": "6c7d0fc8",
   "metadata": {},
   "source": [
    "## Feature Analysis"
   ]
  },
  {
   "cell_type": "code",
   "execution_count": 64,
   "id": "09b80697",
   "metadata": {
    "ExecuteTime": {
     "end_time": "2023-09-18T20:33:30.700169Z",
     "start_time": "2023-09-18T20:33:30.633029Z"
    }
   },
   "outputs": [
    {
     "data": {
      "text/html": [
       "<div>\n",
       "<style scoped>\n",
       "    .dataframe tbody tr th:only-of-type {\n",
       "        vertical-align: middle;\n",
       "    }\n",
       "\n",
       "    .dataframe tbody tr th {\n",
       "        vertical-align: top;\n",
       "    }\n",
       "\n",
       "    .dataframe thead th {\n",
       "        text-align: right;\n",
       "    }\n",
       "</style>\n",
       "<table border=\"1\" class=\"dataframe\">\n",
       "  <thead>\n",
       "    <tr style=\"text-align: right;\">\n",
       "      <th></th>\n",
       "      <th>Column Name</th>\n",
       "      <th>Number of Unique Values</th>\n",
       "      <th>Unique Values</th>\n",
       "      <th>Data Type</th>\n",
       "    </tr>\n",
       "  </thead>\n",
       "  <tbody>\n",
       "    <tr>\n",
       "      <th>0</th>\n",
       "      <td>Recency</td>\n",
       "      <td>31</td>\n",
       "      <td>-</td>\n",
       "      <td>int64</td>\n",
       "    </tr>\n",
       "    <tr>\n",
       "      <th>1</th>\n",
       "      <td>Frequency</td>\n",
       "      <td>33</td>\n",
       "      <td>-</td>\n",
       "      <td>int64</td>\n",
       "    </tr>\n",
       "    <tr>\n",
       "      <th>2</th>\n",
       "      <td>Monetary</td>\n",
       "      <td>33</td>\n",
       "      <td>-</td>\n",
       "      <td>int64</td>\n",
       "    </tr>\n",
       "    <tr>\n",
       "      <th>3</th>\n",
       "      <td>Time</td>\n",
       "      <td>78</td>\n",
       "      <td>-</td>\n",
       "      <td>int64</td>\n",
       "    </tr>\n",
       "    <tr>\n",
       "      <th>4</th>\n",
       "      <td>Target</td>\n",
       "      <td>2</td>\n",
       "      <td>[1, 0]</td>\n",
       "      <td>int64</td>\n",
       "    </tr>\n",
       "    <tr>\n",
       "      <th>5</th>\n",
       "      <td>Donation_Period</td>\n",
       "      <td>90</td>\n",
       "      <td>-</td>\n",
       "      <td>int64</td>\n",
       "    </tr>\n",
       "    <tr>\n",
       "      <th>6</th>\n",
       "      <td>Danotiopn_Score</td>\n",
       "      <td>184</td>\n",
       "      <td>-</td>\n",
       "      <td>float64</td>\n",
       "    </tr>\n",
       "    <tr>\n",
       "      <th>7</th>\n",
       "      <td>Danotiopn_Score_1</td>\n",
       "      <td>186</td>\n",
       "      <td>-</td>\n",
       "      <td>float64</td>\n",
       "    </tr>\n",
       "    <tr>\n",
       "      <th>8</th>\n",
       "      <td>Years</td>\n",
       "      <td>9</td>\n",
       "      <td>-</td>\n",
       "      <td>int64</td>\n",
       "    </tr>\n",
       "    <tr>\n",
       "      <th>9</th>\n",
       "      <td>Months</td>\n",
       "      <td>12</td>\n",
       "      <td>-</td>\n",
       "      <td>int64</td>\n",
       "    </tr>\n",
       "    <tr>\n",
       "      <th>10</th>\n",
       "      <td>Frequency_Group</td>\n",
       "      <td>3</td>\n",
       "      <td>['High', 'Medium', 'Low']\n",
       "Categories (3, objec...</td>\n",
       "      <td>category</td>\n",
       "    </tr>\n",
       "    <tr>\n",
       "      <th>11</th>\n",
       "      <td>Recency_Group</td>\n",
       "      <td>4</td>\n",
       "      <td>['0-12 Months', '13-24 Months', '25-36 Months'...</td>\n",
       "      <td>category</td>\n",
       "    </tr>\n",
       "  </tbody>\n",
       "</table>\n",
       "</div>"
      ],
      "text/plain": [
       "          Column Name  Number of Unique Values  \\\n",
       "0             Recency                       31   \n",
       "1           Frequency                       33   \n",
       "2            Monetary                       33   \n",
       "3                Time                       78   \n",
       "4              Target                        2   \n",
       "5     Donation_Period                       90   \n",
       "6     Danotiopn_Score                      184   \n",
       "7   Danotiopn_Score_1                      186   \n",
       "8               Years                        9   \n",
       "9              Months                       12   \n",
       "10    Frequency_Group                        3   \n",
       "11      Recency_Group                        4   \n",
       "\n",
       "                                       Unique Values  Data Type  \n",
       "0                                                   -     int64  \n",
       "1                                                   -     int64  \n",
       "2                                                   -     int64  \n",
       "3                                                   -     int64  \n",
       "4                                              [1, 0]     int64  \n",
       "5                                                   -     int64  \n",
       "6                                                   -   float64  \n",
       "7                                                   -   float64  \n",
       "8                                                   -     int64  \n",
       "9                                                   -     int64  \n",
       "10  ['High', 'Medium', 'Low']\n",
       "Categories (3, objec...  category  \n",
       "11  ['0-12 Months', '13-24 Months', '25-36 Months'...  category  "
      ]
     },
     "execution_count": 64,
     "metadata": {},
     "output_type": "execute_result"
    }
   ],
   "source": [
    "output_data = []\n",
    "\n",
    "for col in df.columns:\n",
    "    \n",
    "    # If the number of unique values in the column is less than or equal to 5\n",
    "    if df.loc[:, col].nunique() <= 5:\n",
    "        # Get the unique values in the column\n",
    "        unique_values = df.loc[:, col].unique()\n",
    "        # Append the column name, number of unique values, unique values, and data type to the output data\n",
    "        output_data.append([col, df.loc[:, col].nunique(), unique_values, df.loc[:, col].dtype])\n",
    "    else:\n",
    "        # Otherwise, append only the column name, number of unique values, and data type to the output data\n",
    "        output_data.append([col, df.loc[:, col].nunique(),\"-\", df.loc[:, col].dtype])\n",
    "\n",
    "output_df = pd.DataFrame(output_data, columns=['Column Name', 'Number of Unique Values', ' Unique Values ', 'Data Type'])\n",
    "\n",
    "output_df"
   ]
  },
  {
   "cell_type": "markdown",
   "id": "e6451533",
   "metadata": {},
   "source": [
    "## Classify DataFrame Columns into Categorical and Numeric Types"
   ]
  },
  {
   "cell_type": "code",
   "execution_count": 65,
   "id": "394fccbc",
   "metadata": {
    "ExecuteTime": {
     "end_time": "2023-09-18T20:34:16.014849Z",
     "start_time": "2023-09-18T20:34:16.004358Z"
    }
   },
   "outputs": [],
   "source": [
    "def grab_col_names(dataframe, cat_th=10):\n",
    "\n",
    "    # cat_cols\n",
    "    cat_cols = [col for col in dataframe.columns if dataframe[col].dtypes == \"O\"]\n",
    "    num_but_cat = [col for col in dataframe.columns if dataframe[col].nunique() < cat_th and\n",
    "                   dataframe[col].dtypes != \"O\"]    \n",
    "    cat_cols = cat_cols + num_but_cat\n",
    "    \n",
    "\n",
    "    # num_cols\n",
    "    num_cols = [col for col in dataframe.columns if dataframe[col].dtypes != \"O\"]\n",
    "    num_cols = [col for col in num_cols if col not in cat_cols]\n",
    "\n",
    "    print(f\"Features: {dataframe.shape[1]}\")\n",
    "    print(f'Number of Categorical Features: {len(cat_cols)}')\n",
    "    print(f'Number of Numeric Features: {len(num_cols)}')\n",
    "    print(f\"Categorical Features: {cat_cols}\") \n",
    "    print(f\"Numeric Features: {num_cols}\")\n",
    "    \n",
    "    return cat_cols, num_cols"
   ]
  },
  {
   "cell_type": "code",
   "execution_count": 66,
   "id": "de9d5735",
   "metadata": {
    "ExecuteTime": {
     "end_time": "2023-09-18T20:34:21.650946Z",
     "start_time": "2023-09-18T20:34:21.638430Z"
    }
   },
   "outputs": [
    {
     "name": "stdout",
     "output_type": "stream",
     "text": [
      "Features: 12\n",
      "Number of Categorical Features: 4\n",
      "Number of Numeric Features: 8\n",
      "Categorical Features: ['Target', 'Years', 'Frequency_Group', 'Recency_Group']\n",
      "Numeric Features: ['Recency', 'Frequency', 'Monetary', 'Time', 'Donation_Period', 'Danotiopn_Score', 'Danotiopn_Score_1', 'Months']\n"
     ]
    }
   ],
   "source": [
    "cat_cols, num_cols = grab_col_names(df)"
   ]
  },
  {
   "cell_type": "markdown",
   "id": "c74795eb",
   "metadata": {},
   "source": [
    "## DataFrame Summary Statistics"
   ]
  },
  {
   "cell_type": "code",
   "execution_count": 67,
   "id": "60f6cafb",
   "metadata": {
    "ExecuteTime": {
     "end_time": "2023-09-18T20:35:22.638495Z",
     "start_time": "2023-09-18T20:35:22.573313Z"
    }
   },
   "outputs": [
    {
     "name": "stdout",
     "output_type": "stream",
     "text": [
      "Data shape: (748, 12)\n",
      "___________________________\n",
      "Data Types:\n",
      "Types\n",
      "int64       8\n",
      "float64     2\n",
      "category    1\n",
      "category    1\n",
      "Name: count, dtype: int64\n",
      "___________________________\n"
     ]
    },
    {
     "data": {
      "text/html": [
       "<div>\n",
       "<style scoped>\n",
       "    .dataframe tbody tr th:only-of-type {\n",
       "        vertical-align: middle;\n",
       "    }\n",
       "\n",
       "    .dataframe tbody tr th {\n",
       "        vertical-align: top;\n",
       "    }\n",
       "\n",
       "    .dataframe thead th {\n",
       "        text-align: right;\n",
       "    }\n",
       "</style>\n",
       "<table border=\"1\" class=\"dataframe\">\n",
       "  <thead>\n",
       "    <tr style=\"text-align: right;\">\n",
       "      <th></th>\n",
       "      <th>Types</th>\n",
       "      <th>Counts</th>\n",
       "      <th>Uniques</th>\n",
       "      <th>Nulls</th>\n",
       "      <th>Min</th>\n",
       "      <th>Max</th>\n",
       "    </tr>\n",
       "  </thead>\n",
       "  <tbody>\n",
       "    <tr>\n",
       "      <th>Danotiopn_Score</th>\n",
       "      <td>float64</td>\n",
       "      <td>748</td>\n",
       "      <td>184</td>\n",
       "      <td>0</td>\n",
       "      <td>1.013514</td>\n",
       "      <td>inf</td>\n",
       "    </tr>\n",
       "    <tr>\n",
       "      <th>Danotiopn_Score_1</th>\n",
       "      <td>float64</td>\n",
       "      <td>748</td>\n",
       "      <td>186</td>\n",
       "      <td>0</td>\n",
       "      <td>1.013514</td>\n",
       "      <td>50.5</td>\n",
       "    </tr>\n",
       "    <tr>\n",
       "      <th>Donation_Period</th>\n",
       "      <td>int64</td>\n",
       "      <td>748</td>\n",
       "      <td>90</td>\n",
       "      <td>0</td>\n",
       "      <td>0</td>\n",
       "      <td>96</td>\n",
       "    </tr>\n",
       "    <tr>\n",
       "      <th>Frequency</th>\n",
       "      <td>int64</td>\n",
       "      <td>748</td>\n",
       "      <td>33</td>\n",
       "      <td>0</td>\n",
       "      <td>1</td>\n",
       "      <td>50</td>\n",
       "    </tr>\n",
       "    <tr>\n",
       "      <th>Frequency_Group</th>\n",
       "      <td>category</td>\n",
       "      <td>748</td>\n",
       "      <td>3</td>\n",
       "      <td>0</td>\n",
       "      <td>Low</td>\n",
       "      <td>High</td>\n",
       "    </tr>\n",
       "    <tr>\n",
       "      <th>Monetary</th>\n",
       "      <td>int64</td>\n",
       "      <td>748</td>\n",
       "      <td>33</td>\n",
       "      <td>0</td>\n",
       "      <td>250</td>\n",
       "      <td>12500</td>\n",
       "    </tr>\n",
       "    <tr>\n",
       "      <th>Months</th>\n",
       "      <td>int64</td>\n",
       "      <td>748</td>\n",
       "      <td>12</td>\n",
       "      <td>0</td>\n",
       "      <td>0</td>\n",
       "      <td>11</td>\n",
       "    </tr>\n",
       "    <tr>\n",
       "      <th>Recency</th>\n",
       "      <td>int64</td>\n",
       "      <td>748</td>\n",
       "      <td>31</td>\n",
       "      <td>0</td>\n",
       "      <td>0</td>\n",
       "      <td>74</td>\n",
       "    </tr>\n",
       "    <tr>\n",
       "      <th>Recency_Group</th>\n",
       "      <td>category</td>\n",
       "      <td>748</td>\n",
       "      <td>4</td>\n",
       "      <td>0</td>\n",
       "      <td>0-12 Months</td>\n",
       "      <td>37-74 Months</td>\n",
       "    </tr>\n",
       "    <tr>\n",
       "      <th>Target</th>\n",
       "      <td>int64</td>\n",
       "      <td>748</td>\n",
       "      <td>2</td>\n",
       "      <td>0</td>\n",
       "      <td>0</td>\n",
       "      <td>1</td>\n",
       "    </tr>\n",
       "    <tr>\n",
       "      <th>Time</th>\n",
       "      <td>int64</td>\n",
       "      <td>748</td>\n",
       "      <td>78</td>\n",
       "      <td>0</td>\n",
       "      <td>2</td>\n",
       "      <td>98</td>\n",
       "    </tr>\n",
       "    <tr>\n",
       "      <th>Years</th>\n",
       "      <td>int64</td>\n",
       "      <td>748</td>\n",
       "      <td>9</td>\n",
       "      <td>0</td>\n",
       "      <td>0</td>\n",
       "      <td>8</td>\n",
       "    </tr>\n",
       "  </tbody>\n",
       "</table>\n",
       "</div>"
      ],
      "text/plain": [
       "                      Types  Counts  Uniques  Nulls          Min           Max\n",
       "Danotiopn_Score     float64     748      184      0     1.013514           inf\n",
       "Danotiopn_Score_1   float64     748      186      0     1.013514          50.5\n",
       "Donation_Period       int64     748       90      0            0            96\n",
       "Frequency             int64     748       33      0            1            50\n",
       "Frequency_Group    category     748        3      0          Low          High\n",
       "Monetary              int64     748       33      0          250         12500\n",
       "Months                int64     748       12      0            0            11\n",
       "Recency               int64     748       31      0            0            74\n",
       "Recency_Group      category     748        4      0  0-12 Months  37-74 Months\n",
       "Target                int64     748        2      0            0             1\n",
       "Time                  int64     748       78      0            2            98\n",
       "Years                 int64     748        9      0            0             8"
      ]
     },
     "execution_count": 67,
     "metadata": {},
     "output_type": "execute_result"
    }
   ],
   "source": [
    "def summary(df, pred=None):\n",
    "    obs = df.shape[0]\n",
    "    Types = df.dtypes\n",
    "    Counts = df.apply(lambda x: x.count())\n",
    "    Min = df.min()\n",
    "    Max = df.max()\n",
    "    Uniques = df.apply(lambda x: x.unique().shape[0])\n",
    "    Nulls = df.apply(lambda x: x.isnull().sum())\n",
    "    print('Data shape:', df.shape)\n",
    "\n",
    "    if pred is None:\n",
    "        cols = ['Types', 'Counts', 'Uniques', 'Nulls', 'Min', 'Max']\n",
    "        str = pd.concat([Types, Counts, Uniques, Nulls, Min, Max], axis = 1, sort=True)\n",
    "\n",
    "    str.columns = cols\n",
    "    print('___________________________\\nData Types:')\n",
    "    print(str.Types.value_counts())\n",
    "    print('___________________________')\n",
    "    return str\n",
    "\n",
    "summary(df)"
   ]
  },
  {
   "cell_type": "markdown",
   "id": "8c33852e",
   "metadata": {},
   "source": [
    "## Check and Remove Duplicate Rows"
   ]
  },
  {
   "cell_type": "code",
   "execution_count": 68,
   "id": "3b392ba7",
   "metadata": {
    "ExecuteTime": {
     "end_time": "2023-09-18T20:36:15.570203Z",
     "start_time": "2023-09-18T20:36:15.560776Z"
    }
   },
   "outputs": [],
   "source": [
    "def duplicate_values(df):\n",
    "    print(\"Duplicate check...\")\n",
    "    num_duplicates = df.duplicated(subset=None, keep='first').sum()\n",
    "    if num_duplicates > 0:\n",
    "        print(\"There are\", num_duplicates, \"duplicated observations in the dataset.\")\n",
    "        df.drop_duplicates(keep='first', inplace=True)\n",
    "        print(num_duplicates, \"duplicates were dropped!\")\n",
    "        print('*' * 100)\n",
    "    else:\n",
    "        print(\"There are no duplicated observations in the dataset.\")"
   ]
  },
  {
   "cell_type": "code",
   "execution_count": 69,
   "id": "a09177a0",
   "metadata": {
    "ExecuteTime": {
     "end_time": "2023-09-18T20:36:26.293716Z",
     "start_time": "2023-09-18T20:36:26.279725Z"
    }
   },
   "outputs": [
    {
     "name": "stdout",
     "output_type": "stream",
     "text": [
      "Duplicate check...\n",
      "There are 215 duplicated observations in the dataset.\n",
      "215 duplicates were dropped!\n",
      "****************************************************************************************************\n"
     ]
    }
   ],
   "source": [
    "duplicate_values(df)"
   ]
  },
  {
   "cell_type": "code",
   "execution_count": 70,
   "id": "dcae63b6",
   "metadata": {
    "ExecuteTime": {
     "end_time": "2023-09-18T20:36:43.196518Z",
     "start_time": "2023-09-18T20:36:43.182650Z"
    }
   },
   "outputs": [
    {
     "name": "stdout",
     "output_type": "stream",
     "text": [
      "Duplicate check...\n",
      "There are no duplicated observations in the dataset.\n"
     ]
    }
   ],
   "source": [
    "duplicate_values(df)"
   ]
  },
  {
   "cell_type": "code",
   "execution_count": 71,
   "id": "1844aa3a",
   "metadata": {},
   "outputs": [
    {
     "data": {
      "text/plain": [
       "(533, 12)"
      ]
     },
     "execution_count": 71,
     "metadata": {},
     "output_type": "execute_result"
    }
   ],
   "source": [
    "df.shape"
   ]
  },
  {
   "cell_type": "markdown",
   "id": "b4502c46",
   "metadata": {},
   "source": [
    "## Missing Value Analysis in DataFrame"
   ]
  },
  {
   "cell_type": "code",
   "execution_count": 72,
   "id": "f16829f5",
   "metadata": {
    "ExecuteTime": {
     "end_time": "2023-09-18T20:37:03.667695Z",
     "start_time": "2023-09-18T20:37:03.656535Z"
    }
   },
   "outputs": [],
   "source": [
    "def missing_values(df):\n",
    "    missing_number = df.isnull().sum().sort_values(ascending = False)\n",
    "    missing_percent = (df.isnull().sum() / df.isnull().count()).sort_values(ascending = False)\n",
    "    missing_values = pd.concat([missing_number, missing_percent], axis = 1, keys = ['Missing_Number', 'Missing_Percent'])\n",
    "    return missing_values[missing_values['Missing_Number'] > 0]"
   ]
  },
  {
   "cell_type": "code",
   "execution_count": 73,
   "id": "6da4f2eb",
   "metadata": {
    "ExecuteTime": {
     "end_time": "2023-09-18T20:37:04.762814Z",
     "start_time": "2023-09-18T20:37:04.735684Z"
    }
   },
   "outputs": [
    {
     "data": {
      "text/html": [
       "<div>\n",
       "<style scoped>\n",
       "    .dataframe tbody tr th:only-of-type {\n",
       "        vertical-align: middle;\n",
       "    }\n",
       "\n",
       "    .dataframe tbody tr th {\n",
       "        vertical-align: top;\n",
       "    }\n",
       "\n",
       "    .dataframe thead th {\n",
       "        text-align: right;\n",
       "    }\n",
       "</style>\n",
       "<table border=\"1\" class=\"dataframe\">\n",
       "  <thead>\n",
       "    <tr style=\"text-align: right;\">\n",
       "      <th></th>\n",
       "      <th>Missing_Number</th>\n",
       "      <th>Missing_Percent</th>\n",
       "    </tr>\n",
       "  </thead>\n",
       "  <tbody>\n",
       "  </tbody>\n",
       "</table>\n",
       "</div>"
      ],
      "text/plain": [
       "Empty DataFrame\n",
       "Columns: [Missing_Number, Missing_Percent]\n",
       "Index: []"
      ]
     },
     "execution_count": 73,
     "metadata": {},
     "output_type": "execute_result"
    }
   ],
   "source": [
    "missing_values(df)"
   ]
  },
  {
   "cell_type": "markdown",
   "id": "4cf091b7",
   "metadata": {},
   "source": [
    "## Column Value Distribution Analysis"
   ]
  },
  {
   "cell_type": "code",
   "execution_count": 74,
   "id": "7dcae73c",
   "metadata": {
    "ExecuteTime": {
     "end_time": "2023-09-18T20:38:42.608648Z",
     "start_time": "2023-09-18T20:38:42.598516Z"
    }
   },
   "outputs": [],
   "source": [
    "def value_cnt(df, column_name):\n",
    "    vc = df[column_name].value_counts()\n",
    "    vc_norm = df[column_name].value_counts(normalize=True).round(3)\n",
    "\n",
    "    vc = vc.rename_axis('workclass').reset_index(name='counts')\n",
    "    vc_norm = vc_norm.rename_axis('workclass').reset_index(name='norm_counts')\n",
    "\n",
    "    df_result = pd.concat([vc['workclass'], vc['counts'], vc_norm['norm_counts']], axis=1)\n",
    "    \n",
    "    return df_result"
   ]
  },
  {
   "cell_type": "code",
   "execution_count": 75,
   "id": "8960ec91",
   "metadata": {
    "ExecuteTime": {
     "end_time": "2023-09-18T20:38:49.180784Z",
     "start_time": "2023-09-18T20:38:49.153798Z"
    }
   },
   "outputs": [
    {
     "data": {
      "text/html": [
       "<div>\n",
       "<style scoped>\n",
       "    .dataframe tbody tr th:only-of-type {\n",
       "        vertical-align: middle;\n",
       "    }\n",
       "\n",
       "    .dataframe tbody tr th {\n",
       "        vertical-align: top;\n",
       "    }\n",
       "\n",
       "    .dataframe thead th {\n",
       "        text-align: right;\n",
       "    }\n",
       "</style>\n",
       "<table border=\"1\" class=\"dataframe\">\n",
       "  <thead>\n",
       "    <tr style=\"text-align: right;\">\n",
       "      <th></th>\n",
       "      <th>workclass</th>\n",
       "      <th>counts</th>\n",
       "      <th>norm_counts</th>\n",
       "    </tr>\n",
       "  </thead>\n",
       "  <tbody>\n",
       "    <tr>\n",
       "      <th>0</th>\n",
       "      <td>0</td>\n",
       "      <td>384</td>\n",
       "      <td>0.72</td>\n",
       "    </tr>\n",
       "    <tr>\n",
       "      <th>1</th>\n",
       "      <td>1</td>\n",
       "      <td>149</td>\n",
       "      <td>0.28</td>\n",
       "    </tr>\n",
       "  </tbody>\n",
       "</table>\n",
       "</div>"
      ],
      "text/plain": [
       "   workclass  counts  norm_counts\n",
       "0          0     384         0.72\n",
       "1          1     149         0.28"
      ]
     },
     "execution_count": 75,
     "metadata": {},
     "output_type": "execute_result"
    }
   ],
   "source": [
    "# Target incidence is defined as the number of occurrences of each Target value in a dataset.\n",
    "# So how many 1's versus how many 0's are there in the Target column?\n",
    "#Target incidence gives us an idea of how balanced (or unbalanced) our data set is.\n",
    "\n",
    "value_cnt(df, 'Target')"
   ]
  }
 ],
 "metadata": {
  "kernelspec": {
   "display_name": "Python 3 (ipykernel)",
   "language": "python",
   "name": "python3"
  },
  "language_info": {
   "codemirror_mode": {
    "name": "ipython",
    "version": 3
   },
   "file_extension": ".py",
   "mimetype": "text/x-python",
   "name": "python",
   "nbconvert_exporter": "python",
   "pygments_lexer": "ipython3",
   "version": "3.11.5"
  },
  "toc": {
   "base_numbering": 1,
   "nav_menu": {},
   "number_sections": true,
   "sideBar": true,
   "skip_h1_title": false,
   "title_cell": "Table of Contents",
   "title_sidebar": "Contents",
   "toc_cell": false,
   "toc_position": {
    "height": "calc(100% - 180px)",
    "left": "10px",
    "top": "150px",
    "width": "359px"
   },
   "toc_section_display": true,
   "toc_window_display": false
  }
 },
 "nbformat": 4,
 "nbformat_minor": 5
}
